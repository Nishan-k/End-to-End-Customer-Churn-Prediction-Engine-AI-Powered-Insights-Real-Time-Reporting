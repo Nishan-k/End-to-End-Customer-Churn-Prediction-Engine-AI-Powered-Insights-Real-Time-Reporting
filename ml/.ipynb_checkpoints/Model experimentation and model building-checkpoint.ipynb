{
 "cells": [
  {
   "cell_type": "code",
   "execution_count": 1,
   "id": "f7362a1d",
   "metadata": {},
   "outputs": [],
   "source": [
    "import os\n",
    "import sys\n",
    "sys.path.append(os.path.abspath('..')) "
   ]
  },
  {
   "cell_type": "code",
   "execution_count": 2,
   "id": "7c58d3f8",
   "metadata": {},
   "outputs": [],
   "source": [
    "from src.data_processing.customer_data_access import load_all_data\n",
    "import pandas as pd\n",
    "import numpy as np\n",
    "import matplotlib.pyplot as plt\n",
    "import seaborn as sns\n",
    "from pandas.plotting import scatter_matrix\n",
    "%matplotlib inline\n",
    "\n",
    "# Pre-processing:\n",
    "from sklearn.utils import resample\n",
    "from sklearn.compose import ColumnTransformer\n",
    "from sklearn.model_selection import train_test_split, KFold, StratifiedKFold, cross_val_score, cross_validate\n",
    "from sklearn.preprocessing import OneHotEncoder, StandardScaler\n",
    "from statsmodels.stats.outliers_influence import variance_inflation_factor\n",
    "from sklearn.pipeline import Pipeline\n",
    "from sklearn.model_selection import RandomizedSearchCV, GridSearchCV\n",
    "from scipy.stats import randint\n",
    "from sklearn.metrics import classification_report, accuracy_score\n",
    "import joblib\n",
    "\n",
    "# Ml models:\n",
    "from sklearn.linear_model import LogisticRegression\n",
    "from sklearn.discriminant_analysis import LinearDiscriminantAnalysis\n",
    "from sklearn.tree import DecisionTreeClassifier\n",
    "from sklearn.svm import SVC\n",
    "from sklearn.naive_bayes import GaussianNB\n",
    "from sklearn.neighbors import KNeighborsClassifier\n",
    "from sklearn.ensemble import AdaBoostClassifier, GradientBoostingClassifier, RandomForestClassifier, ExtraTreesClassifier\n",
    "\n",
    "\n",
    "\n",
    "import warnings\n",
    "warnings.filterwarnings(action=\"ignore\")\n"
   ]
  },
  {
   "cell_type": "markdown",
   "id": "dc6a94a2",
   "metadata": {},
   "source": [
    "# 1. Load the data from the `data_loader`:"
   ]
  },
  {
   "cell_type": "code",
   "execution_count": 4,
   "id": "d3bdb5aa",
   "metadata": {},
   "outputs": [
    {
     "data": {
      "text/html": [
       "<div>\n",
       "<style scoped>\n",
       "    .dataframe tbody tr th:only-of-type {\n",
       "        vertical-align: middle;\n",
       "    }\n",
       "\n",
       "    .dataframe tbody tr th {\n",
       "        vertical-align: top;\n",
       "    }\n",
       "\n",
       "    .dataframe thead th {\n",
       "        text-align: right;\n",
       "    }\n",
       "</style>\n",
       "<table border=\"1\" class=\"dataframe\">\n",
       "  <thead>\n",
       "    <tr style=\"text-align: right;\">\n",
       "      <th></th>\n",
       "      <th>customer_id</th>\n",
       "      <th>gender</th>\n",
       "      <th>senior_citizen</th>\n",
       "      <th>partner</th>\n",
       "      <th>dependents</th>\n",
       "      <th>tenure</th>\n",
       "      <th>phone_service</th>\n",
       "      <th>multiple_lines</th>\n",
       "      <th>internet_service</th>\n",
       "      <th>online_security</th>\n",
       "      <th>...</th>\n",
       "      <th>device_protection</th>\n",
       "      <th>tech_support</th>\n",
       "      <th>streaming_tv</th>\n",
       "      <th>streaming_movies</th>\n",
       "      <th>contract</th>\n",
       "      <th>paperless_billing</th>\n",
       "      <th>payment_method</th>\n",
       "      <th>monthly_charges</th>\n",
       "      <th>total_charges</th>\n",
       "      <th>churn</th>\n",
       "    </tr>\n",
       "  </thead>\n",
       "  <tbody>\n",
       "    <tr>\n",
       "      <th>0</th>\n",
       "      <td>5575-GNVDE</td>\n",
       "      <td>Male</td>\n",
       "      <td>0</td>\n",
       "      <td>No</td>\n",
       "      <td>No</td>\n",
       "      <td>34</td>\n",
       "      <td>Yes</td>\n",
       "      <td>No</td>\n",
       "      <td>DSL</td>\n",
       "      <td>Yes</td>\n",
       "      <td>...</td>\n",
       "      <td>Yes</td>\n",
       "      <td>No</td>\n",
       "      <td>No</td>\n",
       "      <td>No</td>\n",
       "      <td>One year</td>\n",
       "      <td>No</td>\n",
       "      <td>Mailed check</td>\n",
       "      <td>56.95</td>\n",
       "      <td>1889.5</td>\n",
       "      <td>No</td>\n",
       "    </tr>\n",
       "  </tbody>\n",
       "</table>\n",
       "<p>1 rows × 21 columns</p>\n",
       "</div>"
      ],
      "text/plain": [
       "  customer_id gender  senior_citizen partner dependents  tenure phone_service  \\\n",
       "0  5575-GNVDE   Male               0      No         No      34           Yes   \n",
       "\n",
       "  multiple_lines internet_service online_security  ... device_protection  \\\n",
       "0             No              DSL             Yes  ...               Yes   \n",
       "\n",
       "  tech_support streaming_tv streaming_movies  contract paperless_billing  \\\n",
       "0           No           No               No  One year                No   \n",
       "\n",
       "  payment_method monthly_charges total_charges churn  \n",
       "0   Mailed check           56.95        1889.5    No  \n",
       "\n",
       "[1 rows x 21 columns]"
      ]
     },
     "execution_count": 4,
     "metadata": {},
     "output_type": "execute_result"
    }
   ],
   "source": [
    "df = load_all_data()\n",
    "df.head(1)"
   ]
  },
  {
   "cell_type": "markdown",
   "id": "0429f931",
   "metadata": {},
   "source": [
    "## 2. EDA:"
   ]
  },
  {
   "cell_type": "markdown",
   "id": "a41caf89",
   "metadata": {},
   "source": [
    "## 2.1 Data dimension:"
   ]
  },
  {
   "cell_type": "code",
   "execution_count": 6,
   "id": "7444df95",
   "metadata": {},
   "outputs": [
    {
     "name": "stdout",
     "output_type": "stream",
     "text": [
      "There are a total of: 7042 samples and 21 features in this data.\n"
     ]
    }
   ],
   "source": [
    "print(f\"There are a total of: {df.shape[0]} samples and {df.shape[1]} features in this data.\")"
   ]
  },
  {
   "cell_type": "markdown",
   "id": "c0e77438",
   "metadata": {},
   "source": [
    "`customer_id` won't be relevant for us, so we will drop it now."
   ]
  },
  {
   "cell_type": "code",
   "execution_count": 7,
   "id": "6ebbdb2b",
   "metadata": {},
   "outputs": [],
   "source": [
    "df = df.drop(columns=['customer_id'])"
   ]
  },
  {
   "cell_type": "code",
   "execution_count": 8,
   "id": "0787d5b9",
   "metadata": {},
   "outputs": [
    {
     "data": {
      "text/plain": [
       "(7042, 20)"
      ]
     },
     "execution_count": 8,
     "metadata": {},
     "output_type": "execute_result"
    }
   ],
   "source": [
    "df.shape"
   ]
  },
  {
   "cell_type": "markdown",
   "id": "3c79384e",
   "metadata": {},
   "source": [
    "## 2.2 Check for NULL values:"
   ]
  },
  {
   "cell_type": "code",
   "execution_count": 9,
   "id": "2c994776",
   "metadata": {},
   "outputs": [
    {
     "data": {
      "text/plain": [
       "gender               0\n",
       "senior_citizen       0\n",
       "partner              0\n",
       "dependents           0\n",
       "tenure               0\n",
       "phone_service        0\n",
       "multiple_lines       0\n",
       "internet_service     0\n",
       "online_security      0\n",
       "online_backup        0\n",
       "device_protection    0\n",
       "tech_support         0\n",
       "streaming_tv         0\n",
       "streaming_movies     0\n",
       "contract             0\n",
       "paperless_billing    0\n",
       "payment_method       0\n",
       "monthly_charges      0\n",
       "total_charges        0\n",
       "churn                0\n",
       "dtype: int64"
      ]
     },
     "execution_count": 9,
     "metadata": {},
     "output_type": "execute_result"
    }
   ],
   "source": [
    "df.isna().sum()"
   ]
  },
  {
   "cell_type": "markdown",
   "id": "9949d617",
   "metadata": {},
   "source": [
    "We don't have any missing values."
   ]
  },
  {
   "cell_type": "markdown",
   "id": "8522194e",
   "metadata": {},
   "source": [
    "## 2.3 Data info:"
   ]
  },
  {
   "cell_type": "code",
   "execution_count": 10,
   "id": "3b62c65e",
   "metadata": {},
   "outputs": [
    {
     "name": "stdout",
     "output_type": "stream",
     "text": [
      "<class 'pandas.core.frame.DataFrame'>\n",
      "RangeIndex: 7042 entries, 0 to 7041\n",
      "Data columns (total 20 columns):\n",
      " #   Column             Non-Null Count  Dtype \n",
      "---  ------             --------------  ----- \n",
      " 0   gender             7042 non-null   object\n",
      " 1   senior_citizen     7042 non-null   int64 \n",
      " 2   partner            7042 non-null   object\n",
      " 3   dependents         7042 non-null   object\n",
      " 4   tenure             7042 non-null   int64 \n",
      " 5   phone_service      7042 non-null   object\n",
      " 6   multiple_lines     7042 non-null   object\n",
      " 7   internet_service   7042 non-null   object\n",
      " 8   online_security    7042 non-null   object\n",
      " 9   online_backup      7042 non-null   object\n",
      " 10  device_protection  7042 non-null   object\n",
      " 11  tech_support       7042 non-null   object\n",
      " 12  streaming_tv       7042 non-null   object\n",
      " 13  streaming_movies   7042 non-null   object\n",
      " 14  contract           7042 non-null   object\n",
      " 15  paperless_billing  7042 non-null   object\n",
      " 16  payment_method     7042 non-null   object\n",
      " 17  monthly_charges    7042 non-null   object\n",
      " 18  total_charges      7042 non-null   object\n",
      " 19  churn              7042 non-null   object\n",
      "dtypes: int64(2), object(18)\n",
      "memory usage: 1.1+ MB\n"
     ]
    }
   ],
   "source": [
    "df.info()"
   ]
  },
  {
   "cell_type": "markdown",
   "id": "1dafcd6e",
   "metadata": {},
   "source": [
    "There are some changes we need to do for the `dtypes`."
   ]
  },
  {
   "cell_type": "code",
   "execution_count": 11,
   "id": "eb5297fe",
   "metadata": {},
   "outputs": [],
   "source": [
    "df['senior_citizen'] = df['senior_citizen'].astype('object')\n",
    "df['monthly_charges'] = df['monthly_charges'].astype('float64')\n",
    "df['total_charges'] = df['total_charges'].astype('float64')"
   ]
  },
  {
   "cell_type": "code",
   "execution_count": 12,
   "id": "ccd73064",
   "metadata": {},
   "outputs": [],
   "source": [
    "df['churn'] = df['churn'].map({\"Yes\": 1, \"No\":0})"
   ]
  },
  {
   "cell_type": "code",
   "execution_count": 13,
   "id": "a7400a84",
   "metadata": {},
   "outputs": [
    {
     "data": {
      "text/html": [
       "<div>\n",
       "<style scoped>\n",
       "    .dataframe tbody tr th:only-of-type {\n",
       "        vertical-align: middle;\n",
       "    }\n",
       "\n",
       "    .dataframe tbody tr th {\n",
       "        vertical-align: top;\n",
       "    }\n",
       "\n",
       "    .dataframe thead th {\n",
       "        text-align: right;\n",
       "    }\n",
       "</style>\n",
       "<table border=\"1\" class=\"dataframe\">\n",
       "  <thead>\n",
       "    <tr style=\"text-align: right;\">\n",
       "      <th></th>\n",
       "      <th>gender</th>\n",
       "      <th>senior_citizen</th>\n",
       "      <th>partner</th>\n",
       "      <th>dependents</th>\n",
       "      <th>tenure</th>\n",
       "      <th>phone_service</th>\n",
       "      <th>multiple_lines</th>\n",
       "      <th>internet_service</th>\n",
       "      <th>online_security</th>\n",
       "      <th>online_backup</th>\n",
       "      <th>device_protection</th>\n",
       "      <th>tech_support</th>\n",
       "      <th>streaming_tv</th>\n",
       "      <th>streaming_movies</th>\n",
       "      <th>contract</th>\n",
       "      <th>paperless_billing</th>\n",
       "      <th>payment_method</th>\n",
       "      <th>monthly_charges</th>\n",
       "      <th>total_charges</th>\n",
       "      <th>churn</th>\n",
       "    </tr>\n",
       "  </thead>\n",
       "  <tbody>\n",
       "    <tr>\n",
       "      <th>0</th>\n",
       "      <td>Male</td>\n",
       "      <td>0</td>\n",
       "      <td>No</td>\n",
       "      <td>No</td>\n",
       "      <td>34</td>\n",
       "      <td>Yes</td>\n",
       "      <td>No</td>\n",
       "      <td>DSL</td>\n",
       "      <td>Yes</td>\n",
       "      <td>No</td>\n",
       "      <td>Yes</td>\n",
       "      <td>No</td>\n",
       "      <td>No</td>\n",
       "      <td>No</td>\n",
       "      <td>One year</td>\n",
       "      <td>No</td>\n",
       "      <td>Mailed check</td>\n",
       "      <td>56.95</td>\n",
       "      <td>1889.5</td>\n",
       "      <td>0</td>\n",
       "    </tr>\n",
       "  </tbody>\n",
       "</table>\n",
       "</div>"
      ],
      "text/plain": [
       "  gender senior_citizen partner dependents  tenure phone_service  \\\n",
       "0   Male              0      No         No      34           Yes   \n",
       "\n",
       "  multiple_lines internet_service online_security online_backup  \\\n",
       "0             No              DSL             Yes            No   \n",
       "\n",
       "  device_protection tech_support streaming_tv streaming_movies  contract  \\\n",
       "0               Yes           No           No               No  One year   \n",
       "\n",
       "  paperless_billing payment_method  monthly_charges  total_charges  churn  \n",
       "0                No   Mailed check            56.95         1889.5      0  "
      ]
     },
     "execution_count": 13,
     "metadata": {},
     "output_type": "execute_result"
    }
   ],
   "source": [
    "df.head(1)"
   ]
  },
  {
   "cell_type": "markdown",
   "id": "1048f150",
   "metadata": {},
   "source": [
    "## 2.4 Data Exploration with Visualization:"
   ]
  },
  {
   "cell_type": "markdown",
   "id": "b71d205c",
   "metadata": {},
   "source": [
    "It is important to understand the data distribution and most importantly for a classification task i.e. whehter a customer will Churn `1` or Not-Churn `0`, we need to see if we have class imabalance or not. It is quite common to have a class imbalance problem, where the count of one class is higher than the other, which might create problem when building the model. It will create a bias."
   ]
  },
  {
   "cell_type": "markdown",
   "id": "820e8523",
   "metadata": {},
   "source": [
    "### Univariate Analysis:"
   ]
  },
  {
   "cell_type": "markdown",
   "id": "ed696cce",
   "metadata": {},
   "source": [
    "#### Churn:"
   ]
  },
  {
   "cell_type": "code",
   "execution_count": 14,
   "id": "e3b8dda3",
   "metadata": {},
   "outputs": [
    {
     "data": {
      "text/plain": [
       "churn\n",
       "0    5173\n",
       "1    1869\n",
       "Name: count, dtype: int64"
      ]
     },
     "execution_count": 14,
     "metadata": {},
     "output_type": "execute_result"
    }
   ],
   "source": [
    "df['churn'].value_counts()"
   ]
  },
  {
   "cell_type": "code",
   "execution_count": 15,
   "id": "f54c50d5",
   "metadata": {},
   "outputs": [
    {
     "data": {
      "image/png": "[encoded data removed]",
      "text/plain": [
       "<Figure size 600x400 with 1 Axes>"
      ]
     },
     "metadata": {},
     "output_type": "display_data"
    }
   ],
   "source": [
    "plt.figure(figsize=(6, 4))\n",
    "sns.countplot(data=df, x='churn', hue='churn')\n",
    "plt.legend()\n",
    "plt.tight_layout()\n",
    "plt.show()"
   ]
  },
  {
   "cell_type": "markdown",
   "id": "fd3cef1a",
   "metadata": {},
   "source": [
    "The dataset is imbalanced, `class 0` is dominating the count."
   ]
  },
  {
   "cell_type": "markdown",
   "id": "14d1110c",
   "metadata": {},
   "source": [
    "When training the model in the later stage, I will use two versions of dataset:\n",
    "1. This normal imbalanced dataset.\n",
    "2. A balanced dataset which will be handled using `Oversampling technique`.\n",
    "\n",
    "And then compare the results and choose the data accordingly but use of imbalanced data will most defnitely create the problem, so lets find out later on."
   ]
  },
  {
   "cell_type": "markdown",
   "id": "35659abf",
   "metadata": {},
   "source": [
    "Now, i will use a resample technique and handle the class imbalance and keep this data set separately to try out at the later stage."
   ]
  },
  {
   "cell_type": "markdown",
   "id": "9b0d0a5f",
   "metadata": {},
   "source": [
    "#### Handling class imbalance:"
   ]
  },
  {
   "cell_type": "code",
   "execution_count": 16,
   "id": "2116834c",
   "metadata": {},
   "outputs": [],
   "source": [
    "majority_class = df[df['churn'] == 0]\n",
    "minorty_class = df[df['churn'] == 1]\n",
    "\n",
    "minority_oversampled = resample(minorty_class, replace=True, n_samples=len(majority_class), random_state=42)\n",
    "df_balanced = pd.concat([majority_class, minority_oversampled])\n",
    "\n",
    "# To shuffle the data to introduce randomness:\n",
    "df_balanced = df_balanced.sample(frac=1, random_state=42).reset_index(drop=True)"
   ]
  },
  {
   "cell_type": "code",
   "execution_count": 17,
   "id": "d3cec848",
   "metadata": {},
   "outputs": [
    {
     "data": {
      "image/png": "[encoded data removed]",
      "text/plain": [
       "<Figure size 600x400 with 1 Axes>"
      ]
     },
     "metadata": {},
     "output_type": "display_data"
    }
   ],
   "source": [
    "plt.figure(figsize=(6, 4))\n",
    "sns.countplot(data=df_balanced, x='churn', hue='churn')\n",
    "plt.title(\"Class Balanced\")\n",
    "plt.legend(loc='lower left')\n",
    "plt.tight_layout()\n",
    "plt.show()"
   ]
  },
  {
   "cell_type": "code",
   "execution_count": 18,
   "id": "163722fb",
   "metadata": {},
   "outputs": [
    {
     "data": {
      "text/plain": [
       "(10346, 20)"
      ]
     },
     "execution_count": 18,
     "metadata": {},
     "output_type": "execute_result"
    }
   ],
   "source": [
    "df_balanced.shape"
   ]
  },
  {
   "cell_type": "markdown",
   "id": "40d3bfb2",
   "metadata": {},
   "source": [
    "Now, we have a balanced dataset."
   ]
  },
  {
   "cell_type": "markdown",
   "id": "13038c0d",
   "metadata": {},
   "source": [
    "#### Numerical Features:"
   ]
  },
  {
   "cell_type": "code",
   "execution_count": 19,
   "id": "390ac0c1",
   "metadata": {},
   "outputs": [
    {
     "data": {
      "image/png": "[encoded data removed]",
      "text/plain": [
       "<Figure size 700x400 with 4 Axes>"
      ]
     },
     "metadata": {},
     "output_type": "display_data"
    }
   ],
   "source": [
    "df.hist(figsize=(7, 4))\n",
    "plt.tight_layout()\n",
    "plt.show()"
   ]
  },
  {
   "cell_type": "code",
   "execution_count": 20,
   "id": "2185493b",
   "metadata": {},
   "outputs": [
    {
     "data": {
      "image/png": "[encoded data removed]",
      "text/plain": [
       "<Figure size 700x600 with 6 Axes>"
      ]
     },
     "metadata": {},
     "output_type": "display_data"
    }
   ],
   "source": [
    "df.plot(kind='density', subplots=True, layout=(3, 2), figsize=(7, 6), sharex=False)\n",
    "plt.tight_layout()\n",
    "plt.show()"
   ]
  },
  {
   "cell_type": "markdown",
   "id": "9e5c5bbf",
   "metadata": {},
   "source": [
    "We can see that most of the clients are young."
   ]
  },
  {
   "cell_type": "code",
   "execution_count": 21,
   "id": "21ff60f0",
   "metadata": {},
   "outputs": [
    {
     "data": {
      "image/png": "[encoded data removed]",
      "text/plain": [
       "<Figure size 700x600 with 4 Axes>"
      ]
     },
     "metadata": {},
     "output_type": "display_data"
    }
   ],
   "source": [
    "df.plot(kind='box', subplots=True, layout=(2, 2), figsize=(7, 6))\n",
    "plt.tight_layout()\n",
    "plt.show()"
   ]
  },
  {
   "cell_type": "markdown",
   "id": "a3048baa",
   "metadata": {},
   "source": [
    "#### Gender:"
   ]
  },
  {
   "cell_type": "markdown",
   "id": "7ad90c43",
   "metadata": {},
   "source": [
    "Customer involvement by gender:"
   ]
  },
  {
   "cell_type": "code",
   "execution_count": 22,
   "id": "a060eca8",
   "metadata": {},
   "outputs": [
    {
     "data": {
      "image/png": "[encoded data removed]",
      "text/plain": [
       "<Figure size 640x480 with 1 Axes>"
      ]
     },
     "metadata": {},
     "output_type": "display_data"
    }
   ],
   "source": [
    "sns.barplot(x=df['gender'].value_counts().index, \n",
    "            y=df['gender'].value_counts().values, \n",
    "            hue=df['gender'].value_counts().index)\n",
    "plt.title(\"Customer Involvement by Gender\")\n",
    "plt.show()"
   ]
  },
  {
   "cell_type": "markdown",
   "id": "6bc3502d",
   "metadata": {},
   "source": [
    "#### Contract:"
   ]
  },
  {
   "cell_type": "code",
   "execution_count": 23,
   "id": "2c4aebc0",
   "metadata": {},
   "outputs": [
    {
     "data": {
      "image/png": "[encoded data removed]",
      "text/plain": [
       "<Figure size 700x560 with 1 Axes>"
      ]
     },
     "metadata": {},
     "output_type": "display_data"
    }
   ],
   "source": [
    "plt.figure(figsize=(7, 5.6))\n",
    "ax = sns.barplot(x=df['contract'].value_counts().index,\n",
    "                 y=df['contract'].value_counts().values,\n",
    "                 hue=df['contract'].value_counts().index\n",
    "                )\n",
    "\n",
    "\n",
    "for p in ax.patches:\n",
    "    ax.annotate(f'{int(p.get_height())}', \n",
    "                (p.get_x() + p.get_width() / 2., p.get_height()),\n",
    "                ha='center', va='center', \n",
    "                xytext=(0, 9), textcoords='offset points')\n",
    "\n",
    "plt.title(\"Customer Counts on Contract Basis\")\n",
    "plt.tight_layout()\n",
    "plt.show()"
   ]
  },
  {
   "cell_type": "markdown",
   "id": "77afdbb1",
   "metadata": {},
   "source": [
    "This dataset has no any date columns else we could assume how long they have been in the business. If it has been for a short time then this chart shows the company is doing well as the contract for one year and two years are there which shows some level of trust and satisfaction but if the company is old then we need to come up with some strategies to turn customers from month-to-month subscription ot one or more year contract."
   ]
  },
  {
   "cell_type": "markdown",
   "id": "dd4238eb",
   "metadata": {},
   "source": [
    "#### Tenure:"
   ]
  },
  {
   "cell_type": "code",
   "execution_count": 24,
   "id": "5c22eb31",
   "metadata": {},
   "outputs": [
    {
     "data": {
      "image/png": "[encoded data removed]",
      "text/plain": [
       "<Figure size 640x480 with 1 Axes>"
      ]
     },
     "metadata": {},
     "output_type": "display_data"
    }
   ],
   "source": [
    "sns.histplot(df['tenure'], bins=10)\n",
    "plt.title(\"Tenure Histogram Plot\")\n",
    "plt.show()"
   ]
  },
  {
   "cell_type": "markdown",
   "id": "e3b2e1e5",
   "metadata": {},
   "source": [
    "Here, is an interesting pattern, there are customers who have been with the company for past 70 months, and there are new batch of customer who are at their first experience ranging from their first to their fifth month of subscription. So, this shows, the company has been running their services for a long time and clears out doubt for earlier chart."
   ]
  },
  {
   "cell_type": "markdown",
   "id": "4d036a22",
   "metadata": {},
   "source": [
    "#### Customer Marriage Status:"
   ]
  },
  {
   "cell_type": "code",
   "execution_count": 25,
   "id": "d4d6cdff",
   "metadata": {},
   "outputs": [
    {
     "data": {
      "image/png": "[encoded data removed]",
      "text/plain": [
       "<Figure size 700x600 with 1 Axes>"
      ]
     },
     "metadata": {},
     "output_type": "display_data"
    }
   ],
   "source": [
    "plt.figure(figsize=(7, 6))\n",
    "ax = sns.barplot(x=df['partner'].value_counts().index,\n",
    "                y=df['partner'].value_counts().values,\n",
    "                hue=df['partner'].value_counts().index)\n",
    "\n",
    "for p in ax.patches:\n",
    "    ax.annotate(f'{int(p.get_height())}', \n",
    "                (p.get_x() + p.get_width() / 2., p.get_height()),\n",
    "                ha='center', va='center', \n",
    "                xytext=(0, 9), textcoords='offset points')\n",
    "    \n",
    "plt.show()"
   ]
  },
  {
   "cell_type": "markdown",
   "id": "7d131c6a",
   "metadata": {},
   "source": [
    "# 3. Data Pre-processing:"
   ]
  },
  {
   "cell_type": "markdown",
   "id": "af1ca528",
   "metadata": {},
   "source": [
    "In the categorical data that we have, there is no any Ordinal data, and these categorical columns also don't have too much of cardinality, so, here I will be using `One-hot Encoding`."
   ]
  },
  {
   "cell_type": "code",
   "execution_count": 26,
   "id": "558837c0",
   "metadata": {},
   "outputs": [],
   "source": [
    "def data_encoding(df):\n",
    "    X = df.iloc[:, 0:-1]\n",
    "    y = df.iloc[:, -1].astype(int)\n",
    "    numerical_df = X.select_dtypes(include=['int64', 'float64'])\n",
    "    \n",
    "    categorical_df = X.select_dtypes(include=['object'])\n",
    "    categorical_cols = categorical_df.columns\n",
    "    transformers = [(col, OneHotEncoder(), [col]) for col in categorical_cols]\n",
    "    \n",
    "    column_transformer = ColumnTransformer(transformers=transformers, remainder='passthrough')\n",
    "    encoded_data = column_transformer.fit_transform(X)\n",
    "    encoded_df = pd.DataFrame(encoded_data, columns=column_transformer.get_feature_names_out())\n",
    "    \n",
    "    \n",
    "    return encoded_df, y, numerical_df"
   ]
  },
  {
   "cell_type": "code",
   "execution_count": 27,
   "id": "947657f6",
   "metadata": {},
   "outputs": [],
   "source": [
    "X, y, numerical_df = data_encoding(df)"
   ]
  },
  {
   "cell_type": "code",
   "execution_count": 28,
   "id": "3b233919",
   "metadata": {},
   "outputs": [],
   "source": [
    "X_balanced, y_balanced, numerical_df_balanced = data_encoding(df_balanced)"
   ]
  },
  {
   "cell_type": "markdown",
   "id": "70c3463d",
   "metadata": {},
   "source": [
    "Here, I have encoded both, the original imbalanced and the balanced dataset. And numerical data has been separated for correlation and Mult-collinearity:"
   ]
  },
  {
   "cell_type": "markdown",
   "id": "8cd4d391",
   "metadata": {},
   "source": [
    "# 4. Correlation and Multi-Collinearity:"
   ]
  },
  {
   "cell_type": "markdown",
   "id": "39033059",
   "metadata": {},
   "source": [
    "## 4.1 Correlation:"
   ]
  },
  {
   "cell_type": "code",
   "execution_count": 29,
   "id": "75d5dabf",
   "metadata": {},
   "outputs": [],
   "source": [
    "numerical_df = pd.concat([numerical_df, y], axis=1)\n",
    "numerical_df_balanced = pd.concat([numerical_df_balanced, y], axis=1)"
   ]
  },
  {
   "cell_type": "code",
   "execution_count": 30,
   "id": "96b337a6",
   "metadata": {},
   "outputs": [],
   "source": [
    "data_corr1 = numerical_df.corr()\n",
    "data_corr2 = numerical_df_balanced.corr()"
   ]
  },
  {
   "cell_type": "code",
   "execution_count": 31,
   "id": "0a0f8f80",
   "metadata": {},
   "outputs": [
    {
     "data": {
      "image/png": "[encoded data removed]",
      "text/plain": [
       "<Figure size 800x400 with 2 Axes>"
      ]
     },
     "metadata": {},
     "output_type": "display_data"
    }
   ],
   "source": [
    "plt.figure(figsize=(8, 4))\n",
    "sns.heatmap(data_corr1, annot=True, fmt='.2f', linewidths=0.75, cmap='coolwarm')\n",
    "plt.title('Correlation Heat Map for Original dataset')\n",
    "plt.show()"
   ]
  },
  {
   "cell_type": "code",
   "execution_count": 32,
   "id": "eff2e4b7",
   "metadata": {},
   "outputs": [
    {
     "data": {
      "image/png": "[encoded data removed]",
      "text/plain": [
       "<Figure size 800x400 with 2 Axes>"
      ]
     },
     "metadata": {},
     "output_type": "display_data"
    }
   ],
   "source": [
    "plt.figure(figsize=(8, 4))\n",
    "sns.heatmap(data_corr2, annot=True, fmt='.2f', linewidths=0.75, cmap='coolwarm')\n",
    "plt.title('Correlation Heat Map for Balanced dataset')\n",
    "plt.show()"
   ]
  },
  {
   "cell_type": "markdown",
   "id": "c213d2d2",
   "metadata": {},
   "source": [
    "In the balanced dataset, the correlation seems strong may be because now the classes are balanced. But let's see how it goes."
   ]
  },
  {
   "cell_type": "markdown",
   "id": "2b008157",
   "metadata": {},
   "source": [
    "## 4.2 Multi-Collinearity (VIF):"
   ]
  },
  {
   "cell_type": "code",
   "execution_count": 33,
   "id": "6e96a8c5",
   "metadata": {},
   "outputs": [],
   "source": [
    "numerical_df = numerical_df.drop(columns='churn')\n",
    "numerical_df_balanced = numerical_df_balanced.drop(columns='churn')"
   ]
  },
  {
   "cell_type": "code",
   "execution_count": 34,
   "id": "de01b43c",
   "metadata": {},
   "outputs": [
    {
     "data": {
      "text/html": [
       "<div>\n",
       "<style scoped>\n",
       "    .dataframe tbody tr th:only-of-type {\n",
       "        vertical-align: middle;\n",
       "    }\n",
       "\n",
       "    .dataframe tbody tr th {\n",
       "        vertical-align: top;\n",
       "    }\n",
       "\n",
       "    .dataframe thead th {\n",
       "        text-align: right;\n",
       "    }\n",
       "</style>\n",
       "<table border=\"1\" class=\"dataframe\">\n",
       "  <thead>\n",
       "    <tr style=\"text-align: right;\">\n",
       "      <th></th>\n",
       "      <th>feature</th>\n",
       "      <th>VIF</th>\n",
       "    </tr>\n",
       "  </thead>\n",
       "  <tbody>\n",
       "    <tr>\n",
       "      <th>0</th>\n",
       "      <td>tenure</td>\n",
       "      <td>6.332328</td>\n",
       "    </tr>\n",
       "    <tr>\n",
       "      <th>1</th>\n",
       "      <td>monthly_charges</td>\n",
       "      <td>3.355843</td>\n",
       "    </tr>\n",
       "    <tr>\n",
       "      <th>2</th>\n",
       "      <td>total_charges</td>\n",
       "      <td>8.075237</td>\n",
       "    </tr>\n",
       "  </tbody>\n",
       "</table>\n",
       "</div>"
      ],
      "text/plain": [
       "           feature       VIF\n",
       "0           tenure  6.332328\n",
       "1  monthly_charges  3.355843\n",
       "2    total_charges  8.075237"
      ]
     },
     "execution_count": 34,
     "metadata": {},
     "output_type": "execute_result"
    }
   ],
   "source": [
    "vif_data = pd.DataFrame()\n",
    "vif_data[\"feature\"] = numerical_df.columns\n",
    "vif_data[\"VIF\"] = [variance_inflation_factor(numerical_df.values, i) for i in range(numerical_df.shape[1])]\n",
    "\n",
    "vif_data"
   ]
  },
  {
   "cell_type": "markdown",
   "id": "a2d87324",
   "metadata": {},
   "source": [
    "There is no any feature that has VIF above the threshold of 10, else it would be considered having `Multi-collinearity.`"
   ]
  },
  {
   "cell_type": "code",
   "execution_count": 35,
   "id": "fb66d3be",
   "metadata": {},
   "outputs": [
    {
     "data": {
      "image/png": "[encoded data removed]",
      "text/plain": [
       "<Figure size 600x400 with 1 Axes>"
      ]
     },
     "metadata": {},
     "output_type": "display_data"
    }
   ],
   "source": [
    "plt.figure(figsize=(6, 4))\n",
    "plt.bar(x='feature', height='VIF', data=vif_data)\n",
    "plt.title('VIF values for Mult-collinearity Check')\n",
    "plt.axhline(y=10, color='red', linestyle='--', linewidth=1, label='Threshold (VIF=10)')\n",
    "plt.xlabel(\"Features\")\n",
    "plt.ylabel(\"VIF Value\")\n",
    "plt.title(\"VIF Values for Multicollinearity Check Original Data\")\n",
    "plt.legend(loc='upper left', bbox_to_anchor=(1, 1))\n",
    "plt.tight_layout()\n",
    "plt.show()"
   ]
  },
  {
   "cell_type": "code",
   "execution_count": 36,
   "id": "0d3a3e28",
   "metadata": {},
   "outputs": [
    {
     "data": {
      "text/html": [
       "<div>\n",
       "<style scoped>\n",
       "    .dataframe tbody tr th:only-of-type {\n",
       "        vertical-align: middle;\n",
       "    }\n",
       "\n",
       "    .dataframe tbody tr th {\n",
       "        vertical-align: top;\n",
       "    }\n",
       "\n",
       "    .dataframe thead th {\n",
       "        text-align: right;\n",
       "    }\n",
       "</style>\n",
       "<table border=\"1\" class=\"dataframe\">\n",
       "  <thead>\n",
       "    <tr style=\"text-align: right;\">\n",
       "      <th></th>\n",
       "      <th>feature</th>\n",
       "      <th>VIF</th>\n",
       "    </tr>\n",
       "  </thead>\n",
       "  <tbody>\n",
       "    <tr>\n",
       "      <th>0</th>\n",
       "      <td>tenure</td>\n",
       "      <td>7.051179</td>\n",
       "    </tr>\n",
       "    <tr>\n",
       "      <th>1</th>\n",
       "      <td>monthly_charges</td>\n",
       "      <td>2.746306</td>\n",
       "    </tr>\n",
       "    <tr>\n",
       "      <th>2</th>\n",
       "      <td>total_charges</td>\n",
       "      <td>8.305947</td>\n",
       "    </tr>\n",
       "  </tbody>\n",
       "</table>\n",
       "</div>"
      ],
      "text/plain": [
       "           feature       VIF\n",
       "0           tenure  7.051179\n",
       "1  monthly_charges  2.746306\n",
       "2    total_charges  8.305947"
      ]
     },
     "execution_count": 36,
     "metadata": {},
     "output_type": "execute_result"
    }
   ],
   "source": [
    "vif_data = pd.DataFrame()\n",
    "vif_data[\"feature\"] = numerical_df_balanced.columns\n",
    "vif_data[\"VIF\"] = [variance_inflation_factor(numerical_df_balanced.values, i) for i in range(numerical_df_balanced.shape[1])]\n",
    "\n",
    "vif_data"
   ]
  },
  {
   "cell_type": "code",
   "execution_count": 37,
   "id": "c395bab2",
   "metadata": {},
   "outputs": [
    {
     "data": {
      "image/png": "[encoded data removed]",
      "text/plain": [
       "<Figure size 600x400 with 1 Axes>"
      ]
     },
     "metadata": {},
     "output_type": "display_data"
    }
   ],
   "source": [
    "plt.figure(figsize=(6, 4))\n",
    "plt.bar(x='feature', height='VIF', data=vif_data)\n",
    "plt.title('VIF values for Mult-collinearity Check')\n",
    "plt.axhline(y=10, color='red', linestyle='--', linewidth=1, label='Threshold (VIF=10)')\n",
    "plt.xlabel(\"Features\")\n",
    "plt.ylabel(\"VIF Value\")\n",
    "plt.title(\"VIF Values for Multicollinearity Check(balanced data)\")\n",
    "plt.legend(loc='upper left', bbox_to_anchor=(1, 1))\n",
    "plt.tight_layout()\n",
    "plt.show()"
   ]
  },
  {
   "cell_type": "markdown",
   "id": "a6187426",
   "metadata": {},
   "source": [
    "# 5. Spot Checking Algorithms:"
   ]
  },
  {
   "cell_type": "markdown",
   "id": "3568e735",
   "metadata": {},
   "source": [
    "Sometimes the model might perform well on the data that is not scaled and sometimes not, so here, I will be Spot checking some classification models on both, scaled and unscaled data."
   ]
  },
  {
   "cell_type": "markdown",
   "id": "088ce5e0",
   "metadata": {},
   "source": [
    "## 5.1 Original dataset:"
   ]
  },
  {
   "cell_type": "code",
   "execution_count": 35,
   "id": "d27cf3e1",
   "metadata": {},
   "outputs": [],
   "source": [
    "X_train, X_test, y_train, y_test = train_test_split(X, y, test_size=0.2, random_state=42, stratify=y)"
   ]
  },
  {
   "cell_type": "markdown",
   "id": "f978bd96",
   "metadata": {},
   "source": [
    "### Unscaled data:"
   ]
  },
  {
   "cell_type": "code",
   "execution_count": 36,
   "id": "1ff46e03",
   "metadata": {},
   "outputs": [],
   "source": [
    "models = []\n",
    "\n",
    "models.append(('LR', LogisticRegression(class_weight='balanced', max_iter=3000)))\n",
    "models.append(('LDA', LinearDiscriminantAnalysis()))\n",
    "models.append(('CART', DecisionTreeClassifier()))\n",
    "models.append(('SVM', SVC()))\n",
    "models.append(('NB', GaussianNB()))\n",
    "models.append(('KNN', KNeighborsClassifier()))"
   ]
  },
  {
   "cell_type": "code",
   "execution_count": 37,
   "id": "72826609",
   "metadata": {},
   "outputs": [
    {
     "name": "stdout",
     "output_type": "stream",
     "text": [
      "LR: Mean Accuracy: 0.7478, Precision: 0.5163, Recall: 0.7939, F1 Score: 0.6254\n",
      "LDA: Mean Accuracy: 0.7959, Precision: 0.6335, Recall: 0.5492, F1 Score: 0.5877\n",
      "CART: Mean Accuracy: 0.7196, Precision: 0.4738, Recall: 0.4869, F1 Score: 0.4788\n",
      "SVM: Mean Accuracy: 0.7346, Precision: 0.0000, Recall: 0.0000, F1 Score: 0.0000\n",
      "NB: Mean Accuracy: 0.6933, Precision: 0.4582, Recall: 0.8431, F1 Score: 0.5934\n",
      "KNN: Mean Accuracy: 0.7638, Precision: 0.5704, Recall: 0.4574, F1 Score: 0.5064\n"
     ]
    }
   ],
   "source": [
    "results = []\n",
    "names = []\n",
    "\n",
    "for name, model in models:\n",
    "    kfold = KFold(n_splits=10, shuffle=True, random_state=7)\n",
    "    cv_results = cross_validate(model, X_train, y_train, cv=kfold,scoring=['accuracy', 'precision', 'recall', 'f1'])\n",
    "    \n",
    "    results.append({\n",
    "        'name': name,\n",
    "        'accuracy': cv_results['test_accuracy'].mean(),\n",
    "        'precision': cv_results['test_precision'].mean(),\n",
    "        'recall': cv_results['test_recall'].mean(),\n",
    "        'f1': cv_results['test_f1'].mean()\n",
    "    })\n",
    "    \n",
    "    names.append(name)\n",
    "\n",
    "    \n",
    "    print(f\"{name}: Mean Accuracy: {cv_results['test_accuracy'].mean():.4f}, \"\n",
    "          f\"Precision: {cv_results['test_precision'].mean():.4f}, \"\n",
    "          f\"Recall: {cv_results['test_recall'].mean():.4f}, \"\n",
    "          f\"F1 Score: {cv_results['test_f1'].mean():.4f}\")"
   ]
  },
  {
   "cell_type": "markdown",
   "id": "3016d195",
   "metadata": {},
   "source": [
    "These `F1-score` are not so good and `SVM` gave 0 which shows how sensitive is it to unscaled data."
   ]
  },
  {
   "cell_type": "code",
   "execution_count": null,
   "id": "0c173f10",
   "metadata": {},
   "outputs": [],
   "source": []
  },
  {
   "cell_type": "markdown",
   "id": "e1d7d233",
   "metadata": {},
   "source": [
    "### Scaled Data:"
   ]
  },
  {
   "cell_type": "code",
   "execution_count": 38,
   "id": "5a6e6c58",
   "metadata": {},
   "outputs": [],
   "source": [
    "pipelines = []\n",
    "\n",
    "pipelines.append(('ScaledLR', Pipeline([('Scaler', StandardScaler()),\n",
    "                                       ('LR', LogisticRegression())])))\n",
    "\n",
    "pipelines.append(('ScaledLDA', Pipeline([('Scaler', StandardScaler()),                                         \n",
    "                                        ('LDA', LinearDiscriminantAnalysis())])))\n",
    "\n",
    "pipelines.append(('ScaledCART', Pipeline([('Scaler', StandardScaler()),                                          \n",
    "                                         ('CART', DecisionTreeClassifier())])))\n",
    "\n",
    "pipelines.append(('ScaledSVM', Pipeline([('Scaler', StandardScaler()),                                         \n",
    "                                        ('SVM', SVC())])))\n",
    "\n",
    "pipelines.append(('ScaledNB', Pipeline([('Scaler', StandardScaler()),                                        \n",
    "                                       ('NB', GaussianNB())])))\n",
    "\n",
    "pipelines.append(('ScaledKNN', Pipeline([('Scaler', StandardScaler()),\n",
    "                                        ('KNN', KNeighborsClassifier())])))"
   ]
  },
  {
   "cell_type": "code",
   "execution_count": 39,
   "id": "0cada569",
   "metadata": {},
   "outputs": [
    {
     "name": "stdout",
     "output_type": "stream",
     "text": [
      "ScaledLR: Mean Accuracy: 0.7638, Precision: 0.5704, Recall: 0.4574, F1 Score: 0.5064\n",
      "ScaledLDA: Mean Accuracy: 0.7638, Precision: 0.5704, Recall: 0.4574, F1 Score: 0.5064\n",
      "ScaledCART: Mean Accuracy: 0.7638, Precision: 0.5704, Recall: 0.4574, F1 Score: 0.5064\n",
      "ScaledSVM: Mean Accuracy: 0.7638, Precision: 0.5704, Recall: 0.4574, F1 Score: 0.5064\n",
      "ScaledNB: Mean Accuracy: 0.7638, Precision: 0.5704, Recall: 0.4574, F1 Score: 0.5064\n",
      "ScaledKNN: Mean Accuracy: 0.7638, Precision: 0.5704, Recall: 0.4574, F1 Score: 0.5064\n"
     ]
    }
   ],
   "source": [
    "results = []\n",
    "names = []\n",
    "\n",
    "for name, model in pipelines:\n",
    "    kfold = KFold(n_splits=10, shuffle=True, random_state=7)\n",
    "    cv_result = cross_validate(model, X_train, y_train, cv=kfold, scoring=['accuracy', 'precision', 'recall', 'f1'])\n",
    "    \n",
    "    results.append({\n",
    "        'name': name,\n",
    "        'accuracy': cv_results['test_accuracy'].mean(),\n",
    "        'precision': cv_results['test_precision'].mean(),\n",
    "        'recall': cv_results['test_recall'].mean(),\n",
    "        'f1': cv_results['test_f1'].mean()\n",
    "    })\n",
    "    \n",
    "    names.append(name)\n",
    "\n",
    "    \n",
    "    print(f\"{name}: Mean Accuracy: {cv_results['test_accuracy'].mean():.4f}, \"\n",
    "          f\"Precision: {cv_results['test_precision'].mean():.4f}, \"\n",
    "          f\"Recall: {cv_results['test_recall'].mean():.4f}, \"\n",
    "          f\"F1 Score: {cv_results['test_f1'].mean():.4f}\")"
   ]
  },
  {
   "cell_type": "markdown",
   "id": "e2b0c89c",
   "metadata": {},
   "source": [
    "`SVM` went from 0 to 0.566 on Scaled-data."
   ]
  },
  {
   "cell_type": "code",
   "execution_count": null,
   "id": "50dbce31",
   "metadata": {},
   "outputs": [],
   "source": []
  },
  {
   "cell_type": "markdown",
   "id": "0bf686a6",
   "metadata": {},
   "source": [
    "### Ensemble Models:"
   ]
  },
  {
   "cell_type": "markdown",
   "id": "b596d562",
   "metadata": {},
   "source": [
    "Enesemble models are robust to unscaled data, so I wont't be scaling the data here."
   ]
  },
  {
   "cell_type": "code",
   "execution_count": 40,
   "id": "833c32cf",
   "metadata": {},
   "outputs": [
    {
     "name": "stdout",
     "output_type": "stream",
     "text": [
      "AB: Mean Accuracy: 0.8044, Precision: 0.6655, Recall: 0.5236, F1 Score: 0.5859\n",
      "GBM: Mean Accuracy: 0.8014, Precision: 0.6562, Recall: 0.5256, F1 Score: 0.5831\n",
      "RF: Mean Accuracy: 0.7867, Precision: 0.6276, Recall: 0.4799, F1 Score: 0.5431\n",
      "ET: Mean Accuracy: 0.7709, Precision: 0.5837, Recall: 0.4721, F1 Score: 0.5211\n"
     ]
    }
   ],
   "source": [
    "ensembles = [\n",
    "    ('AB', AdaBoostClassifier()),\n",
    "    ('GBM', GradientBoostingClassifier()),\n",
    "    ('RF', RandomForestClassifier()),\n",
    "    ('ET', ExtraTreesClassifier(class_weight='balanced'))\n",
    "]\n",
    "\n",
    "\n",
    "results = []\n",
    "names = []\n",
    "for name, model in ensembles:\n",
    "    kfold = KFold(n_splits=10, random_state=42, shuffle=True)  \n",
    "    cv_results = cross_validate(model, X_train, y_train, cv=kfold, scoring=['accuracy', 'precision', 'recall', 'f1'])\n",
    "\n",
    "    \n",
    "    results.append({\n",
    "        'name': name,\n",
    "        'accuracy': cv_results['test_accuracy'].mean(),\n",
    "        'precision': cv_results['test_precision'].mean(),\n",
    "        'recall': cv_results['test_recall'].mean(),\n",
    "        'f1': cv_results['test_f1'].mean()\n",
    "    })\n",
    "    \n",
    "    names.append(name)\n",
    "\n",
    "    \n",
    "    print(f\"{name}: Mean Accuracy: {cv_results['test_accuracy'].mean():.4f}, \"\n",
    "          f\"Precision: {cv_results['test_precision'].mean():.4f}, \"\n",
    "          f\"Recall: {cv_results['test_recall'].mean():.4f}, \"\n",
    "          f\"F1 Score: {cv_results['test_f1'].mean():.4f}\")\n",
    "\n",
    "\n",
    "\n"
   ]
  },
  {
   "cell_type": "markdown",
   "id": "6f8c01ab",
   "metadata": {},
   "source": [
    "#### Still no any good results, so now, lets move into the balanced dataset that was achieved using oversampling."
   ]
  },
  {
   "cell_type": "markdown",
   "id": "bc39a947",
   "metadata": {},
   "source": [
    "## 5.2 Balanced Dataset:"
   ]
  },
  {
   "cell_type": "code",
   "execution_count": 41,
   "id": "168bc8ff",
   "metadata": {},
   "outputs": [],
   "source": [
    "X_train, X_test, y_train, y_test = train_test_split(X_balanced, y_balanced, \n",
    "                                                    test_size=0.2, random_state=42, \n",
    "                                                    stratify=y_balanced)"
   ]
  },
  {
   "cell_type": "markdown",
   "id": "889f57fe",
   "metadata": {},
   "source": [
    "### Unscaled Data:"
   ]
  },
  {
   "cell_type": "code",
   "execution_count": 40,
   "id": "809cf765",
   "metadata": {},
   "outputs": [],
   "source": [
    "models = []\n",
    "\n",
    "models.append(('LR', LogisticRegression(class_weight='balanced', max_iter=3000)))\n",
    "models.append(('LDA', LinearDiscriminantAnalysis()))\n",
    "models.append(('CART', DecisionTreeClassifier()))\n",
    "models.append(('SVM', SVC()))\n",
    "models.append(('NB', GaussianNB()))\n",
    "models.append(('KNN', KNeighborsClassifier()))"
   ]
  },
  {
   "cell_type": "code",
   "execution_count": 43,
   "id": "9f3623fc",
   "metadata": {},
   "outputs": [
    {
     "name": "stdout",
     "output_type": "stream",
     "text": [
      "LR: Mean Accuracy: 0.7672, Precision: 0.7501, Recall: 0.8015, F1 Score: 0.7748\n",
      "LDA: Mean Accuracy: 0.7612, Precision: 0.7426, Recall: 0.7997, F1 Score: 0.7700\n",
      "CART: Mean Accuracy: 0.8662, Precision: 0.8212, Recall: 0.9361, F1 Score: 0.8748\n",
      "SVM: Mean Accuracy: 0.6480, Precision: 0.6725, Recall: 0.5769, F1 Score: 0.6209\n",
      "NB: Mean Accuracy: 0.7351, Precision: 0.6912, Recall: 0.8497, F1 Score: 0.7622\n",
      "KNN: Mean Accuracy: 0.7530, Precision: 0.7230, Recall: 0.8202, F1 Score: 0.7684\n"
     ]
    }
   ],
   "source": [
    "results = []\n",
    "names = []\n",
    "\n",
    "for name, model in models:\n",
    "    kfold = KFold(n_splits=10, shuffle=True, random_state=7)\n",
    "    cv_results = cross_validate(model, X_train, y_train, cv=kfold, scoring=['accuracy', 'precision', 'recall', 'f1'])\n",
    "    \n",
    "    results.append({\n",
    "        'name': name,\n",
    "        'accuracy': cv_results['test_accuracy'].mean(),\n",
    "        'precision': cv_results['test_precision'].mean(),\n",
    "        'recall': cv_results['test_recall'].mean(),\n",
    "        'f1': cv_results['test_f1'].mean()\n",
    "    })\n",
    "    \n",
    "    names.append(name)\n",
    "\n",
    "    \n",
    "    print(f\"{name}: Mean Accuracy: {cv_results['test_accuracy'].mean():.4f}, \"\n",
    "          f\"Precision: {cv_results['test_precision'].mean():.4f}, \"\n",
    "          f\"Recall: {cv_results['test_recall'].mean():.4f}, \"\n",
    "          f\"F1 Score: {cv_results['test_f1'].mean():.4f}\")"
   ]
  },
  {
   "cell_type": "code",
   "execution_count": null,
   "id": "b9a95db9",
   "metadata": {},
   "outputs": [],
   "source": []
  },
  {
   "cell_type": "markdown",
   "id": "7799aeb4",
   "metadata": {},
   "source": [
    "### Scaled Data:"
   ]
  },
  {
   "cell_type": "code",
   "execution_count": 44,
   "id": "b8a10a68",
   "metadata": {},
   "outputs": [],
   "source": [
    "pipelines = []\n",
    "\n",
    "pipelines.append(('ScaledLR', Pipeline([('Scaler', StandardScaler()),\n",
    "                                       ('LR', LogisticRegression())])))\n",
    "\n",
    "pipelines.append(('ScaledLDA', Pipeline([('Scaler', StandardScaler()),                                         \n",
    "                                        ('LDA', LinearDiscriminantAnalysis())])))\n",
    "\n",
    "pipelines.append(('ScaledCART', Pipeline([('Scaler', StandardScaler()),                                          \n",
    "                                         ('CART', DecisionTreeClassifier())])))\n",
    "\n",
    "pipelines.append(('ScaledSVM', Pipeline([('Scaler', StandardScaler()),                                         \n",
    "                                        ('SVM', SVC())])))\n",
    "\n",
    "pipelines.append(('ScaledNB', Pipeline([('Scaler', StandardScaler()),                                        \n",
    "                                       ('NB', GaussianNB())])))\n",
    "\n",
    "pipelines.append(('ScaledKNN', Pipeline([('Scaler', StandardScaler()),\n",
    "                                        ('KNN', KNeighborsClassifier())])))"
   ]
  },
  {
   "cell_type": "code",
   "execution_count": 45,
   "id": "463bf8dd",
   "metadata": {},
   "outputs": [
    {
     "name": "stdout",
     "output_type": "stream",
     "text": [
      "ScaledLR: Mean Accuracy: 0.7530, Precision: 0.7230, Recall: 0.8202, F1 Score: 0.7684\n",
      "ScaledLDA: Mean Accuracy: 0.7530, Precision: 0.7230, Recall: 0.8202, F1 Score: 0.7684\n",
      "ScaledCART: Mean Accuracy: 0.7530, Precision: 0.7230, Recall: 0.8202, F1 Score: 0.7684\n",
      "ScaledSVM: Mean Accuracy: 0.7530, Precision: 0.7230, Recall: 0.8202, F1 Score: 0.7684\n",
      "ScaledNB: Mean Accuracy: 0.7530, Precision: 0.7230, Recall: 0.8202, F1 Score: 0.7684\n",
      "ScaledKNN: Mean Accuracy: 0.7530, Precision: 0.7230, Recall: 0.8202, F1 Score: 0.7684\n"
     ]
    }
   ],
   "source": [
    "results = []\n",
    "names = []\n",
    "\n",
    "for name, model in pipelines:\n",
    "    kfold = KFold(n_splits=10, shuffle=True, random_state=7)\n",
    "    cv_result = cross_validate(model, X_train, y_train, cv=kfold, scoring=['accuracy', 'precision', 'recall', 'f1'])\n",
    "    \n",
    "    \n",
    "    results.append({\n",
    "        'name': name,\n",
    "        'accuracy': cv_results['test_accuracy'].mean(),\n",
    "        'precision': cv_results['test_precision'].mean(),\n",
    "        'recall': cv_results['test_recall'].mean(),\n",
    "        'f1': cv_results['test_f1'].mean()\n",
    "    })\n",
    "    \n",
    "    names.append(name)\n",
    "\n",
    "    \n",
    "    print(f\"{name}: Mean Accuracy: {cv_results['test_accuracy'].mean():.4f}, \"\n",
    "          f\"Precision: {cv_results['test_precision'].mean():.4f}, \"\n",
    "          f\"Recall: {cv_results['test_recall'].mean():.4f}, \"\n",
    "          f\"F1 Score: {cv_results['test_f1'].mean():.4f}\")"
   ]
  },
  {
   "cell_type": "markdown",
   "id": "1541518c",
   "metadata": {},
   "source": [
    "### Ensemble Models:"
   ]
  },
  {
   "cell_type": "code",
   "execution_count": 46,
   "id": "90a6db22",
   "metadata": {},
   "outputs": [
    {
     "name": "stdout",
     "output_type": "stream",
     "text": [
      "AB: Mean Accuracy: 0.7716, Precision: 0.7492, Recall: 0.8168, F1 Score: 0.7814\n",
      "GBM: Mean Accuracy: 0.7920, Precision: 0.7706, Recall: 0.8318, F1 Score: 0.7999\n",
      "RF: Mean Accuracy: 0.8964, Precision: 0.8577, Recall: 0.9507, F1 Score: 0.9017\n",
      "ET: Mean Accuracy: 0.9006, Precision: 0.8711, Recall: 0.9405, F1 Score: 0.9044\n"
     ]
    }
   ],
   "source": [
    "ensembles = [\n",
    "    ('AB', AdaBoostClassifier()),\n",
    "    ('GBM', GradientBoostingClassifier()),\n",
    "    ('RF', RandomForestClassifier()),\n",
    "    ('ET', ExtraTreesClassifier(class_weight='balanced'))\n",
    "]\n",
    "\n",
    "\n",
    "results = []\n",
    "names = []\n",
    "for name, model in ensembles:\n",
    "    kfold = KFold(n_splits=10, random_state=42, shuffle=True)  \n",
    "    cv_results = cross_validate(model, X_train, y_train, cv=kfold, scoring=['accuracy', 'precision', 'recall', 'f1'])\n",
    "\n",
    "    \n",
    "    results.append({\n",
    "        'name': name,\n",
    "        'accuracy': cv_results['test_accuracy'].mean(),\n",
    "        'precision': cv_results['test_precision'].mean(),\n",
    "        'recall': cv_results['test_recall'].mean(),\n",
    "        'f1': cv_results['test_f1'].mean()\n",
    "    })\n",
    "    \n",
    "    names.append(name)\n",
    "\n",
    "    \n",
    "    print(f\"{name}: Mean Accuracy: {cv_results['test_accuracy'].mean():.4f}, \"\n",
    "          f\"Precision: {cv_results['test_precision'].mean():.4f}, \"\n",
    "          f\"Recall: {cv_results['test_recall'].mean():.4f}, \"\n",
    "          f\"F1 Score: {cv_results['test_f1'].mean():.4f}\")\n",
    "\n",
    "\n",
    "\n"
   ]
  },
  {
   "cell_type": "markdown",
   "id": "76f3095a",
   "metadata": {},
   "source": [
    "The best results so far are from the `Ensemble models.`"
   ]
  },
  {
   "cell_type": "markdown",
   "id": "45bd25fa",
   "metadata": {},
   "source": [
    "### Scaled on Ensemble Models:"
   ]
  },
  {
   "cell_type": "code",
   "execution_count": 47,
   "id": "d586cb83",
   "metadata": {},
   "outputs": [],
   "source": [
    "ensemble_scaled = []\n",
    "\n",
    "ensemble_scaled.append(('ScaledADABoost', Pipeline([('Scaler', StandardScaler()),\n",
    "                                       ('AB', AdaBoostClassifier())])))\n",
    "\n",
    "ensemble_scaled.append(('ScaledGBC', Pipeline([('Scaler', StandardScaler()),                                         \n",
    "                                        ('GBC', GradientBoostingClassifier())])))\n",
    "\n",
    "ensemble_scaled.append(('ScaledRFC', Pipeline([('Scaler', StandardScaler()),                                          \n",
    "                                         ('RFC', RandomForestClassifier(class_weight='balanced'))])))\n",
    "\n",
    "ensemble_scaled.append(('ScaledETC', Pipeline([('Scaler', StandardScaler()),\n",
    "                                        ('ETC', ExtraTreesClassifier(class_weight='balanced'))])))"
   ]
  },
  {
   "cell_type": "code",
   "execution_count": 48,
   "id": "5f3a90d8",
   "metadata": {},
   "outputs": [
    {
     "name": "stdout",
     "output_type": "stream",
     "text": [
      "ScaledADABoost: Mean Accuracy: 0.7716, Precision: 0.7492, Recall: 0.8168, F1 Score: 0.7814\n",
      "ScaledGBC: Mean Accuracy: 0.7920, Precision: 0.7706, Recall: 0.8318, F1 Score: 0.7999\n",
      "ScaledRFC: Mean Accuracy: 0.8955, Precision: 0.8552, Recall: 0.9526, F1 Score: 0.9011\n",
      "ScaledETC: Mean Accuracy: 0.9000, Precision: 0.8713, Recall: 0.9388, F1 Score: 0.9037\n"
     ]
    }
   ],
   "source": [
    "results = []\n",
    "names = []\n",
    "for name, model in ensemble_scaled:\n",
    "    kfold = KFold(n_splits=10, random_state=42, shuffle=True)  \n",
    "    cv_results = cross_validate(model, X_train, y_train, cv=kfold, scoring=['accuracy', 'precision', 'recall', 'f1'])\n",
    "\n",
    "    \n",
    "    results.append({\n",
    "        'name': name,\n",
    "        'accuracy': cv_results['test_accuracy'].mean(),\n",
    "        'precision': cv_results['test_precision'].mean(),\n",
    "        'recall': cv_results['test_recall'].mean(),\n",
    "        'f1': cv_results['test_f1'].mean()\n",
    "    })\n",
    "    \n",
    "    names.append(name)\n",
    "\n",
    "    \n",
    "    print(f\"{name}: Mean Accuracy: {cv_results['test_accuracy'].mean():.4f}, \"\n",
    "          f\"Precision: {cv_results['test_precision'].mean():.4f}, \"\n",
    "          f\"Recall: {cv_results['test_recall'].mean():.4f}, \"\n",
    "          f\"F1 Score: {cv_results['test_f1'].mean():.4f}\")"
   ]
  },
  {
   "cell_type": "markdown",
   "id": "ed99a449",
   "metadata": {},
   "source": [
    "Out of these models, now, I will be moving forward with the `ExtraTreesClassifier` and `RandomForest`. The data won't be scaled because there is no much difference so better not to keep extra loads of scaling and I will be using the balanced dataset."
   ]
  },
  {
   "cell_type": "code",
   "execution_count": null,
   "id": "83037633",
   "metadata": {},
   "outputs": [],
   "source": []
  },
  {
   "cell_type": "markdown",
   "id": "d90b2392",
   "metadata": {},
   "source": [
    "# 6. Hyper-Parameter Optimization:"
   ]
  },
  {
   "cell_type": "markdown",
   "id": "ba1a4800",
   "metadata": {},
   "source": [
    "### 1. Random Forest:"
   ]
  },
  {
   "cell_type": "code",
   "execution_count": 49,
   "id": "1e653450",
   "metadata": {},
   "outputs": [],
   "source": [
    "X_train, X_test, y_train, y_test = train_test_split(X_balanced, y_balanced, \n",
    "                                                    test_size=0.2, random_state=42, \n",
    "                                                    stratify=y_balanced)"
   ]
  },
  {
   "cell_type": "code",
   "execution_count": 50,
   "id": "1e2044c0",
   "metadata": {},
   "outputs": [],
   "source": [
    "param_dist_rf = {\n",
    "    'n_estimators': randint(100, 300),  \n",
    "    'max_depth': [5, 7, 10, 15, 20, 25], \n",
    "    'min_samples_split': randint(10, 20),  \n",
    "    'min_samples_leaf': randint(4, 15),    \n",
    "    'class_weight': ['balanced'],\n",
    "    'max_features': ['sqrt', 'log2'] \n",
    "}"
   ]
  },
  {
   "cell_type": "code",
   "execution_count": 51,
   "id": "fdff2aa7",
   "metadata": {},
   "outputs": [
    {
     "name": "stdout",
     "output_type": "stream",
     "text": [
      "Best parameters found: {'class_weight': 'balanced', 'max_depth': 15, 'max_features': 'sqrt', 'min_samples_leaf': 4, 'min_samples_split': 19, 'n_estimators': 121}\n"
     ]
    }
   ],
   "source": [
    "random_forest_clf = RandomForestClassifier()\n",
    "\n",
    "folds = KFold(n_splits=10, shuffle=True, random_state=7)\n",
    "randomized_search = RandomizedSearchCV(estimator=random_forest_clf, param_distributions=param_dist_rf, \n",
    "                                       n_iter=15, scoring='f1', cv=folds, random_state=42, n_jobs=-1)\n",
    "\n",
    "randomized_search.fit(X_train, y_train)\n",
    "\n",
    "best_params_rf = randomized_search.best_params_\n",
    "print(\"Best parameters found:\", best_params_rf)"
   ]
  },
  {
   "cell_type": "code",
   "execution_count": 52,
   "id": "7afaecb5",
   "metadata": {},
   "outputs": [
    {
     "data": {
      "text/html": [
       "<style>#sk-container-id-1 {color: black;}#sk-container-id-1 pre{padding: 0;}#sk-container-id-1 div.sk-toggleable {background-color: white;}#sk-container-id-1 label.sk-toggleable__label {cursor: pointer;display: block;width: 100%;margin-bottom: 0;padding: 0.3em;box-sizing: border-box;text-align: center;}#sk-container-id-1 label.sk-toggleable__label-arrow:before {content: \"▸\";float: left;margin-right: 0.25em;color: #696969;}#sk-container-id-1 label.sk-toggleable__label-arrow:hover:before {color: black;}#sk-container-id-1 div.sk-estimator:hover label.sk-toggleable__label-arrow:before {color: black;}#sk-container-id-1 div.sk-toggleable__content {max-height: 0;max-width: 0;overflow: hidden;text-align: left;background-color: #f0f8ff;}#sk-container-id-1 div.sk-toggleable__content pre {margin: 0.2em;color: black;border-radius: 0.25em;background-color: #f0f8ff;}#sk-container-id-1 input.sk-toggleable__control:checked~div.sk-toggleable__content {max-height: 200px;max-width: 100%;overflow: auto;}#sk-container-id-1 input.sk-toggleable__control:checked~label.sk-toggleable__label-arrow:before {content: \"▾\";}#sk-container-id-1 div.sk-estimator input.sk-toggleable__control:checked~label.sk-toggleable__label {background-color: #d4ebff;}#sk-container-id-1 div.sk-label input.sk-toggleable__control:checked~label.sk-toggleable__label {background-color: #d4ebff;}#sk-container-id-1 input.sk-hidden--visually {border: 0;clip: rect(1px 1px 1px 1px);clip: rect(1px, 1px, 1px, 1px);height: 1px;margin: -1px;overflow: hidden;padding: 0;position: absolute;width: 1px;}#sk-container-id-1 div.sk-estimator {font-family: monospace;background-color: #f0f8ff;border: 1px dotted black;border-radius: 0.25em;box-sizing: border-box;margin-bottom: 0.5em;}#sk-container-id-1 div.sk-estimator:hover {background-color: #d4ebff;}#sk-container-id-1 div.sk-parallel-item::after {content: \"\";width: 100%;border-bottom: 1px solid gray;flex-grow: 1;}#sk-container-id-1 div.sk-label:hover label.sk-toggleable__label {background-color: #d4ebff;}#sk-container-id-1 div.sk-serial::before {content: \"\";position: absolute;border-left: 1px solid gray;box-sizing: border-box;top: 0;bottom: 0;left: 50%;z-index: 0;}#sk-container-id-1 div.sk-serial {display: flex;flex-direction: column;align-items: center;background-color: white;padding-right: 0.2em;padding-left: 0.2em;position: relative;}#sk-container-id-1 div.sk-item {position: relative;z-index: 1;}#sk-container-id-1 div.sk-parallel {display: flex;align-items: stretch;justify-content: center;background-color: white;position: relative;}#sk-container-id-1 div.sk-item::before, #sk-container-id-1 div.sk-parallel-item::before {content: \"\";position: absolute;border-left: 1px solid gray;box-sizing: border-box;top: 0;bottom: 0;left: 50%;z-index: -1;}#sk-container-id-1 div.sk-parallel-item {display: flex;flex-direction: column;z-index: 1;position: relative;background-color: white;}#sk-container-id-1 div.sk-parallel-item:first-child::after {align-self: flex-end;width: 50%;}#sk-container-id-1 div.sk-parallel-item:last-child::after {align-self: flex-start;width: 50%;}#sk-container-id-1 div.sk-parallel-item:only-child::after {width: 0;}#sk-container-id-1 div.sk-dashed-wrapped {border: 1px dashed gray;margin: 0 0.4em 0.5em 0.4em;box-sizing: border-box;padding-bottom: 0.4em;background-color: white;}#sk-container-id-1 div.sk-label label {font-family: monospace;font-weight: bold;display: inline-block;line-height: 1.2em;}#sk-container-id-1 div.sk-label-container {text-align: center;}#sk-container-id-1 div.sk-container {/* jupyter's `normalize.less` sets `[hidden] { display: none; }` but bootstrap.min.css set `[hidden] { display: none !important; }` so we also need the `!important` here to be able to override the default hidden behavior on the sphinx rendered scikit-learn.org. See: https://github.com/scikit-learn/scikit-learn/issues/21755 */display: inline-block !important;position: relative;}#sk-container-id-1 div.sk-text-repr-fallback {display: none;}</style><div id=\"sk-container-id-1\" class=\"sk-top-container\"><div class=\"sk-text-repr-fallback\"><pre>RandomForestClassifier(class_weight=&#x27;balanced&#x27;, max_depth=15,\n",
       "                       min_samples_leaf=4, min_samples_split=19,\n",
       "                       n_estimators=121)</pre><b>In a Jupyter environment, please rerun this cell to show the HTML representation or trust the notebook. <br />On GitHub, the HTML representation is unable to render, please try loading this page with nbviewer.org.</b></div><div class=\"sk-container\" hidden><div class=\"sk-item\"><div class=\"sk-estimator sk-toggleable\"><input class=\"sk-toggleable__control sk-hidden--visually\" id=\"sk-estimator-id-1\" type=\"checkbox\" checked><label for=\"sk-estimator-id-1\" class=\"sk-toggleable__label sk-toggleable__label-arrow\">RandomForestClassifier</label><div class=\"sk-toggleable__content\"><pre>RandomForestClassifier(class_weight=&#x27;balanced&#x27;, max_depth=15,\n",
       "                       min_samples_leaf=4, min_samples_split=19,\n",
       "                       n_estimators=121)</pre></div></div></div></div></div>"
      ],
      "text/plain": [
       "RandomForestClassifier(class_weight='balanced', max_depth=15,\n",
       "                       min_samples_leaf=4, min_samples_split=19,\n",
       "                       n_estimators=121)"
      ]
     },
     "execution_count": 52,
     "metadata": {},
     "output_type": "execute_result"
    }
   ],
   "source": [
    "random_forest_clf = RandomForestClassifier(**best_params_rf)\n",
    "random_forest_clf.fit(X_train, y_train)"
   ]
  },
  {
   "cell_type": "code",
   "execution_count": 53,
   "id": "2d9afdd3",
   "metadata": {},
   "outputs": [],
   "source": [
    "y_train_pred = random_forest_clf.predict(X_train)\n",
    "y_test_pred = random_forest_clf.predict(X_test)"
   ]
  },
  {
   "cell_type": "code",
   "execution_count": 54,
   "id": "6ccbdbe6",
   "metadata": {},
   "outputs": [
    {
     "data": {
      "text/plain": [
       "0.8709833293065958"
      ]
     },
     "execution_count": 54,
     "metadata": {},
     "output_type": "execute_result"
    }
   ],
   "source": [
    "accuracy_score(y_train, y_train_pred)"
   ]
  },
  {
   "cell_type": "code",
   "execution_count": 55,
   "id": "a5bd8db8",
   "metadata": {},
   "outputs": [
    {
     "data": {
      "text/plain": [
       "0.8227053140096618"
      ]
     },
     "execution_count": 55,
     "metadata": {},
     "output_type": "execute_result"
    }
   ],
   "source": [
    "accuracy_score(y_test, y_test_pred)"
   ]
  },
  {
   "cell_type": "markdown",
   "id": "e20d34a2",
   "metadata": {},
   "source": [
    "There is a bit of overfitting."
   ]
  },
  {
   "cell_type": "markdown",
   "id": "0a03bc25",
   "metadata": {},
   "source": [
    "### 2. ExtraTreesClassifier:"
   ]
  },
  {
   "cell_type": "code",
   "execution_count": 56,
   "id": "858aa29c",
   "metadata": {},
   "outputs": [
    {
     "name": "stdout",
     "output_type": "stream",
     "text": [
      "Best parameters found: {'bootstrap': False, 'class_weight': 'balanced', 'max_depth': 20, 'max_features': 'log2', 'min_samples_leaf': 13, 'min_samples_split': 16, 'n_estimators': 291}\n"
     ]
    }
   ],
   "source": [
    "param_dist_et = {\n",
    "    'n_estimators': randint(100, 350),\n",
    "    'max_depth': [5, 10, 15, 20],  \n",
    "    'min_samples_split': randint(15, 30), \n",
    "    'min_samples_leaf': randint(8, 25),  \n",
    "    'class_weight': ['balanced'],\n",
    "    'max_features': ['sqrt', 'log2'],\n",
    "    'bootstrap': [True, False] \n",
    "}\n",
    "\n",
    "et_clf = ExtraTreesClassifier()\n",
    "\n",
    "folds = KFold(n_splits=10, shuffle=True, random_state=7)\n",
    "randomized_search = RandomizedSearchCV(estimator=et_clf, param_distributions=param_dist_et, \n",
    "                                       n_iter=15, scoring='f1', cv=folds, random_state=42, n_jobs=-1)\n",
    "\n",
    "randomized_search.fit(X_train, y_train)\n",
    "\n",
    "best_params_et = randomized_search.best_params_\n",
    "print(\"Best parameters found:\", best_params_et)"
   ]
  },
  {
   "cell_type": "code",
   "execution_count": 57,
   "id": "f2ae399c",
   "metadata": {},
   "outputs": [
    {
     "data": {
      "text/html": [
       "<style>#sk-container-id-2 {color: black;}#sk-container-id-2 pre{padding: 0;}#sk-container-id-2 div.sk-toggleable {background-color: white;}#sk-container-id-2 label.sk-toggleable__label {cursor: pointer;display: block;width: 100%;margin-bottom: 0;padding: 0.3em;box-sizing: border-box;text-align: center;}#sk-container-id-2 label.sk-toggleable__label-arrow:before {content: \"▸\";float: left;margin-right: 0.25em;color: #696969;}#sk-container-id-2 label.sk-toggleable__label-arrow:hover:before {color: black;}#sk-container-id-2 div.sk-estimator:hover label.sk-toggleable__label-arrow:before {color: black;}#sk-container-id-2 div.sk-toggleable__content {max-height: 0;max-width: 0;overflow: hidden;text-align: left;background-color: #f0f8ff;}#sk-container-id-2 div.sk-toggleable__content pre {margin: 0.2em;color: black;border-radius: 0.25em;background-color: #f0f8ff;}#sk-container-id-2 input.sk-toggleable__control:checked~div.sk-toggleable__content {max-height: 200px;max-width: 100%;overflow: auto;}#sk-container-id-2 input.sk-toggleable__control:checked~label.sk-toggleable__label-arrow:before {content: \"▾\";}#sk-container-id-2 div.sk-estimator input.sk-toggleable__control:checked~label.sk-toggleable__label {background-color: #d4ebff;}#sk-container-id-2 div.sk-label input.sk-toggleable__control:checked~label.sk-toggleable__label {background-color: #d4ebff;}#sk-container-id-2 input.sk-hidden--visually {border: 0;clip: rect(1px 1px 1px 1px);clip: rect(1px, 1px, 1px, 1px);height: 1px;margin: -1px;overflow: hidden;padding: 0;position: absolute;width: 1px;}#sk-container-id-2 div.sk-estimator {font-family: monospace;background-color: #f0f8ff;border: 1px dotted black;border-radius: 0.25em;box-sizing: border-box;margin-bottom: 0.5em;}#sk-container-id-2 div.sk-estimator:hover {background-color: #d4ebff;}#sk-container-id-2 div.sk-parallel-item::after {content: \"\";width: 100%;border-bottom: 1px solid gray;flex-grow: 1;}#sk-container-id-2 div.sk-label:hover label.sk-toggleable__label {background-color: #d4ebff;}#sk-container-id-2 div.sk-serial::before {content: \"\";position: absolute;border-left: 1px solid gray;box-sizing: border-box;top: 0;bottom: 0;left: 50%;z-index: 0;}#sk-container-id-2 div.sk-serial {display: flex;flex-direction: column;align-items: center;background-color: white;padding-right: 0.2em;padding-left: 0.2em;position: relative;}#sk-container-id-2 div.sk-item {position: relative;z-index: 1;}#sk-container-id-2 div.sk-parallel {display: flex;align-items: stretch;justify-content: center;background-color: white;position: relative;}#sk-container-id-2 div.sk-item::before, #sk-container-id-2 div.sk-parallel-item::before {content: \"\";position: absolute;border-left: 1px solid gray;box-sizing: border-box;top: 0;bottom: 0;left: 50%;z-index: -1;}#sk-container-id-2 div.sk-parallel-item {display: flex;flex-direction: column;z-index: 1;position: relative;background-color: white;}#sk-container-id-2 div.sk-parallel-item:first-child::after {align-self: flex-end;width: 50%;}#sk-container-id-2 div.sk-parallel-item:last-child::after {align-self: flex-start;width: 50%;}#sk-container-id-2 div.sk-parallel-item:only-child::after {width: 0;}#sk-container-id-2 div.sk-dashed-wrapped {border: 1px dashed gray;margin: 0 0.4em 0.5em 0.4em;box-sizing: border-box;padding-bottom: 0.4em;background-color: white;}#sk-container-id-2 div.sk-label label {font-family: monospace;font-weight: bold;display: inline-block;line-height: 1.2em;}#sk-container-id-2 div.sk-label-container {text-align: center;}#sk-container-id-2 div.sk-container {/* jupyter's `normalize.less` sets `[hidden] { display: none; }` but bootstrap.min.css set `[hidden] { display: none !important; }` so we also need the `!important` here to be able to override the default hidden behavior on the sphinx rendered scikit-learn.org. See: https://github.com/scikit-learn/scikit-learn/issues/21755 */display: inline-block !important;position: relative;}#sk-container-id-2 div.sk-text-repr-fallback {display: none;}</style><div id=\"sk-container-id-2\" class=\"sk-top-container\"><div class=\"sk-text-repr-fallback\"><pre>ExtraTreesClassifier(class_weight=&#x27;balanced&#x27;, max_depth=20, max_features=&#x27;log2&#x27;,\n",
       "                     min_samples_leaf=13, min_samples_split=16,\n",
       "                     n_estimators=291)</pre><b>In a Jupyter environment, please rerun this cell to show the HTML representation or trust the notebook. <br />On GitHub, the HTML representation is unable to render, please try loading this page with nbviewer.org.</b></div><div class=\"sk-container\" hidden><div class=\"sk-item\"><div class=\"sk-estimator sk-toggleable\"><input class=\"sk-toggleable__control sk-hidden--visually\" id=\"sk-estimator-id-2\" type=\"checkbox\" checked><label for=\"sk-estimator-id-2\" class=\"sk-toggleable__label sk-toggleable__label-arrow\">ExtraTreesClassifier</label><div class=\"sk-toggleable__content\"><pre>ExtraTreesClassifier(class_weight=&#x27;balanced&#x27;, max_depth=20, max_features=&#x27;log2&#x27;,\n",
       "                     min_samples_leaf=13, min_samples_split=16,\n",
       "                     n_estimators=291)</pre></div></div></div></div></div>"
      ],
      "text/plain": [
       "ExtraTreesClassifier(class_weight='balanced', max_depth=20, max_features='log2',\n",
       "                     min_samples_leaf=13, min_samples_split=16,\n",
       "                     n_estimators=291)"
      ]
     },
     "execution_count": 57,
     "metadata": {},
     "output_type": "execute_result"
    }
   ],
   "source": [
    "extra_trees_clf = ExtraTreesClassifier(**best_params_et)\n",
    "extra_trees_clf.fit(X_train, y_train)"
   ]
  },
  {
   "cell_type": "code",
   "execution_count": 58,
   "id": "c80090a6",
   "metadata": {},
   "outputs": [],
   "source": [
    "y_train_pred = extra_trees_clf.predict(X_train)\n",
    "y_test_pred = extra_trees_clf.predict(X_test)"
   ]
  },
  {
   "cell_type": "code",
   "execution_count": 59,
   "id": "01520195",
   "metadata": {},
   "outputs": [
    {
     "data": {
      "text/plain": [
       "0.8151727470403479"
      ]
     },
     "execution_count": 59,
     "metadata": {},
     "output_type": "execute_result"
    }
   ],
   "source": [
    "accuracy_score(y_train, y_train_pred)"
   ]
  },
  {
   "cell_type": "code",
   "execution_count": 60,
   "id": "58be4142",
   "metadata": {},
   "outputs": [
    {
     "data": {
      "text/plain": [
       "0.7888888888888889"
      ]
     },
     "execution_count": 60,
     "metadata": {},
     "output_type": "execute_result"
    }
   ],
   "source": [
    "accuracy_score(y_test, y_test_pred)"
   ]
  },
  {
   "cell_type": "code",
   "execution_count": 61,
   "id": "998a325b",
   "metadata": {},
   "outputs": [
    {
     "name": "stdout",
     "output_type": "stream",
     "text": [
      "              precision    recall  f1-score   support\n",
      "\n",
      "           0       0.84      0.78      0.81      4139\n",
      "           1       0.80      0.85      0.82      4139\n",
      "\n",
      "    accuracy                           0.82      8278\n",
      "   macro avg       0.82      0.82      0.81      8278\n",
      "weighted avg       0.82      0.82      0.81      8278\n",
      "\n"
     ]
    }
   ],
   "source": [
    "print(classification_report(y_train, y_train_pred))"
   ]
  },
  {
   "cell_type": "code",
   "execution_count": 62,
   "id": "962cb923",
   "metadata": {},
   "outputs": [
    {
     "name": "stdout",
     "output_type": "stream",
     "text": [
      "              precision    recall  f1-score   support\n",
      "\n",
      "           0       0.81      0.75      0.78      1035\n",
      "           1       0.77      0.82      0.80      1035\n",
      "\n",
      "    accuracy                           0.79      2070\n",
      "   macro avg       0.79      0.79      0.79      2070\n",
      "weighted avg       0.79      0.79      0.79      2070\n",
      "\n"
     ]
    }
   ],
   "source": [
    "print(classification_report(y_test, y_test_pred))"
   ]
  },
  {
   "cell_type": "code",
   "execution_count": 63,
   "id": "7c18bc70",
   "metadata": {},
   "outputs": [
    {
     "data": {
      "text/plain": [
       "{'bootstrap': False,\n",
       " 'class_weight': 'balanced',\n",
       " 'max_depth': 20,\n",
       " 'max_features': 'log2',\n",
       " 'min_samples_leaf': 13,\n",
       " 'min_samples_split': 16,\n",
       " 'n_estimators': 291}"
      ]
     },
     "execution_count": 63,
     "metadata": {},
     "output_type": "execute_result"
    }
   ],
   "source": [
    "best_params_et"
   ]
  },
  {
   "cell_type": "markdown",
   "id": "c87f78bf",
   "metadata": {},
   "source": [
    "### Using `GridSearchCV`:"
   ]
  },
  {
   "cell_type": "code",
   "execution_count": 123,
   "id": "e2217732",
   "metadata": {},
   "outputs": [
    {
     "name": "stdout",
     "output_type": "stream",
     "text": [
      "              precision    recall  f1-score   support\n",
      "\n",
      "           0       0.82      0.76      0.79      1035\n",
      "           1       0.78      0.84      0.81      1035\n",
      "\n",
      "    accuracy                           0.80      2070\n",
      "   macro avg       0.80      0.80      0.80      2070\n",
      "weighted avg       0.80      0.80      0.80      2070\n",
      "\n"
     ]
    }
   ],
   "source": [
    "param_grid_et = {\n",
    "    'n_estimators': [150, 200, 250],  \n",
    "    'max_depth': [10, 15, 20],  \n",
    "    'min_samples_split': [15, 20],  \n",
    "    'min_samples_leaf': [10, 13, 15],  \n",
    "    'class_weight': ['balanced'],\n",
    "    'max_features': ['log2'],\n",
    "    'bootstrap': [False] \n",
    "}\n",
    "\n",
    "\n",
    "\n",
    "et_model = ExtraTreesClassifier(random_state=42)\n",
    "\n",
    "\n",
    "grid_search_et = GridSearchCV(\n",
    "    estimator=et_model,\n",
    "    param_grid=param_grid_et,\n",
    "    scoring='f1',  \n",
    "    cv=5,  \n",
    "    verbose=2,  \n",
    "    n_jobs=-1  \n",
    ")\n",
    "\n",
    "\n",
    "# grid_search_et.fit(X_train, y_train)\n",
    "\n",
    "\n",
    "# print(\"Best Parameters:\", grid_search_et.best_params_)\n",
    "# best_et_model = grid_search_et.best_estimator_\n",
    "\n",
    "\n",
    "y_test_pred = best_et_model.predict(X_test)\n",
    "\n",
    "\n",
    "print(classification_report(y_test, y_test_pred))"
   ]
  },
  {
   "cell_type": "code",
   "execution_count": 74,
   "id": "3f783687",
   "metadata": {},
   "outputs": [
    {
     "data": {
      "text/plain": [
       "0.8320850446967867"
      ]
     },
     "execution_count": 74,
     "metadata": {},
     "output_type": "execute_result"
    }
   ],
   "source": [
    "y_train_pred = best_et_model.predict(X_train)\n",
    "accuracy_score(y_train, y_train_pred)"
   ]
  },
  {
   "cell_type": "code",
   "execution_count": 75,
   "id": "0093cb23",
   "metadata": {},
   "outputs": [
    {
     "data": {
      "text/plain": [
       "0.7990338164251207"
      ]
     },
     "execution_count": 75,
     "metadata": {},
     "output_type": "execute_result"
    }
   ],
   "source": [
    "y_test_pred = best_et_model.predict(X_test)\n",
    "accuracy_score(y_test, y_test_pred)"
   ]
  },
  {
   "cell_type": "code",
   "execution_count": 119,
   "id": "3485e922",
   "metadata": {},
   "outputs": [],
   "source": [
    "et_model_params = best_et_model.get_params()"
   ]
  },
  {
   "cell_type": "code",
   "execution_count": 124,
   "id": "c2fc35f4",
   "metadata": {},
   "outputs": [
    {
     "name": "stdout",
     "output_type": "stream",
     "text": [
      "              precision    recall  f1-score   support\n",
      "\n",
      "           0       0.82      0.76      0.79      1035\n",
      "           1       0.78      0.84      0.81      1035\n",
      "\n",
      "    accuracy                           0.80      2070\n",
      "   macro avg       0.80      0.80      0.80      2070\n",
      "weighted avg       0.80      0.80      0.80      2070\n",
      "\n"
     ]
    }
   ],
   "source": [
    "print(classification_report(y_test, y_test_pred))"
   ]
  },
  {
   "cell_type": "markdown",
   "id": "806d32de",
   "metadata": {},
   "source": [
    "These are the best Hyper-parameters and results so far. So, the model will be `ExtraTreesClassifier` with these Hyper-parameters."
   ]
  },
  {
   "cell_type": "code",
   "execution_count": 76,
   "id": "3545c3be",
   "metadata": {},
   "outputs": [
    {
     "data": {
      "text/plain": [
       "{'bootstrap': False,\n",
       " 'ccp_alpha': 0.0,\n",
       " 'class_weight': 'balanced',\n",
       " 'criterion': 'gini',\n",
       " 'max_depth': 20,\n",
       " 'max_features': 'log2',\n",
       " 'max_leaf_nodes': None,\n",
       " 'max_samples': None,\n",
       " 'min_impurity_decrease': 0.0,\n",
       " 'min_samples_leaf': 10,\n",
       " 'min_samples_split': 15,\n",
       " 'min_weight_fraction_leaf': 0.0,\n",
       " 'n_estimators': 250,\n",
       " 'n_jobs': None,\n",
       " 'oob_score': False,\n",
       " 'random_state': 42,\n",
       " 'verbose': 0,\n",
       " 'warm_start': False}"
      ]
     },
     "execution_count": 76,
     "metadata": {},
     "output_type": "execute_result"
    }
   ],
   "source": [
    "et_model_params"
   ]
  },
  {
   "cell_type": "markdown",
   "id": "3d6adeb5",
   "metadata": {},
   "source": [
    "# Building the Final Model:"
   ]
  },
  {
   "cell_type": "markdown",
   "id": "79285981",
   "metadata": {},
   "source": [
    "#### Load and clean some data types:"
   ]
  },
  {
   "cell_type": "code",
   "execution_count": 79,
   "id": "8a39d274",
   "metadata": {},
   "outputs": [],
   "source": [
    "df = load_data()"
   ]
  },
  {
   "cell_type": "code",
   "execution_count": 84,
   "id": "476ad3f9",
   "metadata": {},
   "outputs": [
    {
     "data": {
      "text/html": [
       "<div>\n",
       "<style scoped>\n",
       "    .dataframe tbody tr th:only-of-type {\n",
       "        vertical-align: middle;\n",
       "    }\n",
       "\n",
       "    .dataframe tbody tr th {\n",
       "        vertical-align: top;\n",
       "    }\n",
       "\n",
       "    .dataframe thead th {\n",
       "        text-align: right;\n",
       "    }\n",
       "</style>\n",
       "<table border=\"1\" class=\"dataframe\">\n",
       "  <thead>\n",
       "    <tr style=\"text-align: right;\">\n",
       "      <th></th>\n",
       "      <th>customer_id</th>\n",
       "      <th>gender</th>\n",
       "      <th>senior_citizen</th>\n",
       "      <th>partner</th>\n",
       "      <th>dependents</th>\n",
       "      <th>tenure</th>\n",
       "      <th>phone_service</th>\n",
       "      <th>multiple_lines</th>\n",
       "      <th>internet_service</th>\n",
       "      <th>online_security</th>\n",
       "      <th>...</th>\n",
       "      <th>device_protection</th>\n",
       "      <th>tech_support</th>\n",
       "      <th>streaming_tv</th>\n",
       "      <th>streaming_movies</th>\n",
       "      <th>contract</th>\n",
       "      <th>paperless_billing</th>\n",
       "      <th>payment_method</th>\n",
       "      <th>monthly_charges</th>\n",
       "      <th>total_charges</th>\n",
       "      <th>churn</th>\n",
       "    </tr>\n",
       "  </thead>\n",
       "  <tbody>\n",
       "    <tr>\n",
       "      <th>0</th>\n",
       "      <td>7590-VHVEG</td>\n",
       "      <td>Female</td>\n",
       "      <td>0</td>\n",
       "      <td>Yes</td>\n",
       "      <td>No</td>\n",
       "      <td>1</td>\n",
       "      <td>No</td>\n",
       "      <td>No phone service</td>\n",
       "      <td>DSL</td>\n",
       "      <td>No</td>\n",
       "      <td>...</td>\n",
       "      <td>No</td>\n",
       "      <td>No</td>\n",
       "      <td>No</td>\n",
       "      <td>No</td>\n",
       "      <td>Month-to-month</td>\n",
       "      <td>Yes</td>\n",
       "      <td>Electronic check</td>\n",
       "      <td>29.85</td>\n",
       "      <td>29.85</td>\n",
       "      <td>No</td>\n",
       "    </tr>\n",
       "  </tbody>\n",
       "</table>\n",
       "<p>1 rows × 21 columns</p>\n",
       "</div>"
      ],
      "text/plain": [
       "  customer_id  gender  senior_citizen partner dependents  tenure  \\\n",
       "0  7590-VHVEG  Female               0     Yes         No       1   \n",
       "\n",
       "  phone_service    multiple_lines internet_service online_security  ...  \\\n",
       "0            No  No phone service              DSL              No  ...   \n",
       "\n",
       "  device_protection tech_support streaming_tv streaming_movies  \\\n",
       "0                No           No           No               No   \n",
       "\n",
       "         contract paperless_billing    payment_method monthly_charges  \\\n",
       "0  Month-to-month               Yes  Electronic check           29.85   \n",
       "\n",
       "  total_charges churn  \n",
       "0         29.85    No  \n",
       "\n",
       "[1 rows x 21 columns]"
      ]
     },
     "execution_count": 84,
     "metadata": {},
     "output_type": "execute_result"
    }
   ],
   "source": [
    "df.head(1)"
   ]
  },
  {
   "cell_type": "code",
   "execution_count": 85,
   "id": "25d7cd50",
   "metadata": {},
   "outputs": [],
   "source": [
    "df = df.drop(columns=['customer_id'])"
   ]
  },
  {
   "cell_type": "code",
   "execution_count": 87,
   "id": "4db26d70",
   "metadata": {},
   "outputs": [],
   "source": [
    "df['senior_citizen'] = df['senior_citizen'].astype('object')"
   ]
  },
  {
   "cell_type": "code",
   "execution_count": 89,
   "id": "e081e761",
   "metadata": {},
   "outputs": [],
   "source": [
    "df['monthly_charges'] = df['monthly_charges'].astype('float64')\n",
    "df['total_charges'] = df['total_charges'].astype('float64')"
   ]
  },
  {
   "cell_type": "code",
   "execution_count": 91,
   "id": "ff60aefc",
   "metadata": {},
   "outputs": [],
   "source": [
    "df['churn'] = df['churn'].map({\"Yes\":1, \"No\":0})"
   ]
  },
  {
   "cell_type": "markdown",
   "id": "f9e91497",
   "metadata": {},
   "source": [
    "#### Build the pipeline to avoid data leakage:"
   ]
  },
  {
   "cell_type": "code",
   "execution_count": 99,
   "id": "fba3f7eb",
   "metadata": {},
   "outputs": [],
   "source": [
    "categorical_cols = df.select_dtypes(include='object').columns.to_list()"
   ]
  },
  {
   "cell_type": "code",
   "execution_count": 102,
   "id": "d941c618",
   "metadata": {},
   "outputs": [],
   "source": [
    "column_transformer = ColumnTransformer(\n",
    "    transformers=[\n",
    "        ('encoding', OneHotEncoder(handle_unknown='ignore'), categorical_cols)\n",
    "    ],\n",
    "    remainder='passthrough'\n",
    ")\n",
    "\n",
    "pipeline = Pipeline([\n",
    "    ('preprocessor', column_transformer),\n",
    "    ('model', ExtraTreesClassifier(**et_model_params))\n",
    "])"
   ]
  },
  {
   "cell_type": "code",
   "execution_count": 104,
   "id": "b91d14ce",
   "metadata": {},
   "outputs": [],
   "source": [
    "X = df.iloc[:, 0:-1]\n",
    "y = df.iloc[:, -1]"
   ]
  },
  {
   "cell_type": "code",
   "execution_count": 107,
   "id": "6cc1d4e3",
   "metadata": {},
   "outputs": [
    {
     "data": {
      "text/html": [
       "<style>#sk-container-id-4 {color: black;}#sk-container-id-4 pre{padding: 0;}#sk-container-id-4 div.sk-toggleable {background-color: white;}#sk-container-id-4 label.sk-toggleable__label {cursor: pointer;display: block;width: 100%;margin-bottom: 0;padding: 0.3em;box-sizing: border-box;text-align: center;}#sk-container-id-4 label.sk-toggleable__label-arrow:before {content: \"▸\";float: left;margin-right: 0.25em;color: #696969;}#sk-container-id-4 label.sk-toggleable__label-arrow:hover:before {color: black;}#sk-container-id-4 div.sk-estimator:hover label.sk-toggleable__label-arrow:before {color: black;}#sk-container-id-4 div.sk-toggleable__content {max-height: 0;max-width: 0;overflow: hidden;text-align: left;background-color: #f0f8ff;}#sk-container-id-4 div.sk-toggleable__content pre {margin: 0.2em;color: black;border-radius: 0.25em;background-color: #f0f8ff;}#sk-container-id-4 input.sk-toggleable__control:checked~div.sk-toggleable__content {max-height: 200px;max-width: 100%;overflow: auto;}#sk-container-id-4 input.sk-toggleable__control:checked~label.sk-toggleable__label-arrow:before {content: \"▾\";}#sk-container-id-4 div.sk-estimator input.sk-toggleable__control:checked~label.sk-toggleable__label {background-color: #d4ebff;}#sk-container-id-4 div.sk-label input.sk-toggleable__control:checked~label.sk-toggleable__label {background-color: #d4ebff;}#sk-container-id-4 input.sk-hidden--visually {border: 0;clip: rect(1px 1px 1px 1px);clip: rect(1px, 1px, 1px, 1px);height: 1px;margin: -1px;overflow: hidden;padding: 0;position: absolute;width: 1px;}#sk-container-id-4 div.sk-estimator {font-family: monospace;background-color: #f0f8ff;border: 1px dotted black;border-radius: 0.25em;box-sizing: border-box;margin-bottom: 0.5em;}#sk-container-id-4 div.sk-estimator:hover {background-color: #d4ebff;}#sk-container-id-4 div.sk-parallel-item::after {content: \"\";width: 100%;border-bottom: 1px solid gray;flex-grow: 1;}#sk-container-id-4 div.sk-label:hover label.sk-toggleable__label {background-color: #d4ebff;}#sk-container-id-4 div.sk-serial::before {content: \"\";position: absolute;border-left: 1px solid gray;box-sizing: border-box;top: 0;bottom: 0;left: 50%;z-index: 0;}#sk-container-id-4 div.sk-serial {display: flex;flex-direction: column;align-items: center;background-color: white;padding-right: 0.2em;padding-left: 0.2em;position: relative;}#sk-container-id-4 div.sk-item {position: relative;z-index: 1;}#sk-container-id-4 div.sk-parallel {display: flex;align-items: stretch;justify-content: center;background-color: white;position: relative;}#sk-container-id-4 div.sk-item::before, #sk-container-id-4 div.sk-parallel-item::before {content: \"\";position: absolute;border-left: 1px solid gray;box-sizing: border-box;top: 0;bottom: 0;left: 50%;z-index: -1;}#sk-container-id-4 div.sk-parallel-item {display: flex;flex-direction: column;z-index: 1;position: relative;background-color: white;}#sk-container-id-4 div.sk-parallel-item:first-child::after {align-self: flex-end;width: 50%;}#sk-container-id-4 div.sk-parallel-item:last-child::after {align-self: flex-start;width: 50%;}#sk-container-id-4 div.sk-parallel-item:only-child::after {width: 0;}#sk-container-id-4 div.sk-dashed-wrapped {border: 1px dashed gray;margin: 0 0.4em 0.5em 0.4em;box-sizing: border-box;padding-bottom: 0.4em;background-color: white;}#sk-container-id-4 div.sk-label label {font-family: monospace;font-weight: bold;display: inline-block;line-height: 1.2em;}#sk-container-id-4 div.sk-label-container {text-align: center;}#sk-container-id-4 div.sk-container {/* jupyter's `normalize.less` sets `[hidden] { display: none; }` but bootstrap.min.css set `[hidden] { display: none !important; }` so we also need the `!important` here to be able to override the default hidden behavior on the sphinx rendered scikit-learn.org. See: https://github.com/scikit-learn/scikit-learn/issues/21755 */display: inline-block !important;position: relative;}#sk-container-id-4 div.sk-text-repr-fallback {display: none;}</style><div id=\"sk-container-id-4\" class=\"sk-top-container\"><div class=\"sk-text-repr-fallback\"><pre>Pipeline(steps=[(&#x27;preprocessor&#x27;,\n",
       "                 ColumnTransformer(remainder=&#x27;passthrough&#x27;,\n",
       "                                   transformers=[(&#x27;encoding&#x27;,\n",
       "                                                  OneHotEncoder(handle_unknown=&#x27;ignore&#x27;),\n",
       "                                                  [&#x27;gender&#x27;, &#x27;senior_citizen&#x27;,\n",
       "                                                   &#x27;partner&#x27;, &#x27;dependents&#x27;,\n",
       "                                                   &#x27;phone_service&#x27;,\n",
       "                                                   &#x27;multiple_lines&#x27;,\n",
       "                                                   &#x27;internet_service&#x27;,\n",
       "                                                   &#x27;online_security&#x27;,\n",
       "                                                   &#x27;online_backup&#x27;,\n",
       "                                                   &#x27;device_protection&#x27;,\n",
       "                                                   &#x27;tech_support&#x27;,\n",
       "                                                   &#x27;streaming_tv&#x27;,\n",
       "                                                   &#x27;streaming_movies&#x27;,\n",
       "                                                   &#x27;contract&#x27;,\n",
       "                                                   &#x27;paperless_billing&#x27;,\n",
       "                                                   &#x27;payment_method&#x27;])])),\n",
       "                (&#x27;model&#x27;,\n",
       "                 ExtraTreesClassifier(class_weight=&#x27;balanced&#x27;, max_depth=20,\n",
       "                                      max_features=&#x27;log2&#x27;, min_samples_leaf=10,\n",
       "                                      min_samples_split=15, n_estimators=250,\n",
       "                                      random_state=42))])</pre><b>In a Jupyter environment, please rerun this cell to show the HTML representation or trust the notebook. <br />On GitHub, the HTML representation is unable to render, please try loading this page with nbviewer.org.</b></div><div class=\"sk-container\" hidden><div class=\"sk-item sk-dashed-wrapped\"><div class=\"sk-label-container\"><div class=\"sk-label sk-toggleable\"><input class=\"sk-toggleable__control sk-hidden--visually\" id=\"sk-estimator-id-4\" type=\"checkbox\" ><label for=\"sk-estimator-id-4\" class=\"sk-toggleable__label sk-toggleable__label-arrow\">Pipeline</label><div class=\"sk-toggleable__content\"><pre>Pipeline(steps=[(&#x27;preprocessor&#x27;,\n",
       "                 ColumnTransformer(remainder=&#x27;passthrough&#x27;,\n",
       "                                   transformers=[(&#x27;encoding&#x27;,\n",
       "                                                  OneHotEncoder(handle_unknown=&#x27;ignore&#x27;),\n",
       "                                                  [&#x27;gender&#x27;, &#x27;senior_citizen&#x27;,\n",
       "                                                   &#x27;partner&#x27;, &#x27;dependents&#x27;,\n",
       "                                                   &#x27;phone_service&#x27;,\n",
       "                                                   &#x27;multiple_lines&#x27;,\n",
       "                                                   &#x27;internet_service&#x27;,\n",
       "                                                   &#x27;online_security&#x27;,\n",
       "                                                   &#x27;online_backup&#x27;,\n",
       "                                                   &#x27;device_protection&#x27;,\n",
       "                                                   &#x27;tech_support&#x27;,\n",
       "                                                   &#x27;streaming_tv&#x27;,\n",
       "                                                   &#x27;streaming_movies&#x27;,\n",
       "                                                   &#x27;contract&#x27;,\n",
       "                                                   &#x27;paperless_billing&#x27;,\n",
       "                                                   &#x27;payment_method&#x27;])])),\n",
       "                (&#x27;model&#x27;,\n",
       "                 ExtraTreesClassifier(class_weight=&#x27;balanced&#x27;, max_depth=20,\n",
       "                                      max_features=&#x27;log2&#x27;, min_samples_leaf=10,\n",
       "                                      min_samples_split=15, n_estimators=250,\n",
       "                                      random_state=42))])</pre></div></div></div><div class=\"sk-serial\"><div class=\"sk-item sk-dashed-wrapped\"><div class=\"sk-label-container\"><div class=\"sk-label sk-toggleable\"><input class=\"sk-toggleable__control sk-hidden--visually\" id=\"sk-estimator-id-5\" type=\"checkbox\" ><label for=\"sk-estimator-id-5\" class=\"sk-toggleable__label sk-toggleable__label-arrow\">preprocessor: ColumnTransformer</label><div class=\"sk-toggleable__content\"><pre>ColumnTransformer(remainder=&#x27;passthrough&#x27;,\n",
       "                  transformers=[(&#x27;encoding&#x27;,\n",
       "                                 OneHotEncoder(handle_unknown=&#x27;ignore&#x27;),\n",
       "                                 [&#x27;gender&#x27;, &#x27;senior_citizen&#x27;, &#x27;partner&#x27;,\n",
       "                                  &#x27;dependents&#x27;, &#x27;phone_service&#x27;,\n",
       "                                  &#x27;multiple_lines&#x27;, &#x27;internet_service&#x27;,\n",
       "                                  &#x27;online_security&#x27;, &#x27;online_backup&#x27;,\n",
       "                                  &#x27;device_protection&#x27;, &#x27;tech_support&#x27;,\n",
       "                                  &#x27;streaming_tv&#x27;, &#x27;streaming_movies&#x27;,\n",
       "                                  &#x27;contract&#x27;, &#x27;paperless_billing&#x27;,\n",
       "                                  &#x27;payment_method&#x27;])])</pre></div></div></div><div class=\"sk-parallel\"><div class=\"sk-parallel-item\"><div class=\"sk-item\"><div class=\"sk-label-container\"><div class=\"sk-label sk-toggleable\"><input class=\"sk-toggleable__control sk-hidden--visually\" id=\"sk-estimator-id-6\" type=\"checkbox\" ><label for=\"sk-estimator-id-6\" class=\"sk-toggleable__label sk-toggleable__label-arrow\">encoding</label><div class=\"sk-toggleable__content\"><pre>[&#x27;gender&#x27;, &#x27;senior_citizen&#x27;, &#x27;partner&#x27;, &#x27;dependents&#x27;, &#x27;phone_service&#x27;, &#x27;multiple_lines&#x27;, &#x27;internet_service&#x27;, &#x27;online_security&#x27;, &#x27;online_backup&#x27;, &#x27;device_protection&#x27;, &#x27;tech_support&#x27;, &#x27;streaming_tv&#x27;, &#x27;streaming_movies&#x27;, &#x27;contract&#x27;, &#x27;paperless_billing&#x27;, &#x27;payment_method&#x27;]</pre></div></div></div><div class=\"sk-serial\"><div class=\"sk-item\"><div class=\"sk-estimator sk-toggleable\"><input class=\"sk-toggleable__control sk-hidden--visually\" id=\"sk-estimator-id-7\" type=\"checkbox\" ><label for=\"sk-estimator-id-7\" class=\"sk-toggleable__label sk-toggleable__label-arrow\">OneHotEncoder</label><div class=\"sk-toggleable__content\"><pre>OneHotEncoder(handle_unknown=&#x27;ignore&#x27;)</pre></div></div></div></div></div></div><div class=\"sk-parallel-item\"><div class=\"sk-item\"><div class=\"sk-label-container\"><div class=\"sk-label sk-toggleable\"><input class=\"sk-toggleable__control sk-hidden--visually\" id=\"sk-estimator-id-8\" type=\"checkbox\" ><label for=\"sk-estimator-id-8\" class=\"sk-toggleable__label sk-toggleable__label-arrow\">remainder</label><div class=\"sk-toggleable__content\"><pre>[&#x27;tenure&#x27;, &#x27;monthly_charges&#x27;, &#x27;total_charges&#x27;]</pre></div></div></div><div class=\"sk-serial\"><div class=\"sk-item\"><div class=\"sk-estimator sk-toggleable\"><input class=\"sk-toggleable__control sk-hidden--visually\" id=\"sk-estimator-id-9\" type=\"checkbox\" ><label for=\"sk-estimator-id-9\" class=\"sk-toggleable__label sk-toggleable__label-arrow\">passthrough</label><div class=\"sk-toggleable__content\"><pre>passthrough</pre></div></div></div></div></div></div></div></div><div class=\"sk-item\"><div class=\"sk-estimator sk-toggleable\"><input class=\"sk-toggleable__control sk-hidden--visually\" id=\"sk-estimator-id-10\" type=\"checkbox\" ><label for=\"sk-estimator-id-10\" class=\"sk-toggleable__label sk-toggleable__label-arrow\">ExtraTreesClassifier</label><div class=\"sk-toggleable__content\"><pre>ExtraTreesClassifier(class_weight=&#x27;balanced&#x27;, max_depth=20, max_features=&#x27;log2&#x27;,\n",
       "                     min_samples_leaf=10, min_samples_split=15,\n",
       "                     n_estimators=250, random_state=42)</pre></div></div></div></div></div></div></div>"
      ],
      "text/plain": [
       "Pipeline(steps=[('preprocessor',\n",
       "                 ColumnTransformer(remainder='passthrough',\n",
       "                                   transformers=[('encoding',\n",
       "                                                  OneHotEncoder(handle_unknown='ignore'),\n",
       "                                                  ['gender', 'senior_citizen',\n",
       "                                                   'partner', 'dependents',\n",
       "                                                   'phone_service',\n",
       "                                                   'multiple_lines',\n",
       "                                                   'internet_service',\n",
       "                                                   'online_security',\n",
       "                                                   'online_backup',\n",
       "                                                   'device_protection',\n",
       "                                                   'tech_support',\n",
       "                                                   'streaming_tv',\n",
       "                                                   'streaming_movies',\n",
       "                                                   'contract',\n",
       "                                                   'paperless_billing',\n",
       "                                                   'payment_method'])])),\n",
       "                ('model',\n",
       "                 ExtraTreesClassifier(class_weight='balanced', max_depth=20,\n",
       "                                      max_features='log2', min_samples_leaf=10,\n",
       "                                      min_samples_split=15, n_estimators=250,\n",
       "                                      random_state=42))])"
      ]
     },
     "execution_count": 107,
     "metadata": {},
     "output_type": "execute_result"
    }
   ],
   "source": [
    "pipeline.fit(X, y)"
   ]
  },
  {
   "cell_type": "code",
   "execution_count": 111,
   "id": "43268d41",
   "metadata": {},
   "outputs": [
    {
     "data": {
      "text/plain": [
       "array([1, 0, 1, 0], dtype=int64)"
      ]
     },
     "execution_count": 111,
     "metadata": {},
     "output_type": "execute_result"
    }
   ],
   "source": [
    "pipeline.predict(X[:4])"
   ]
  },
  {
   "cell_type": "code",
   "execution_count": 112,
   "id": "b02130d3",
   "metadata": {},
   "outputs": [
    {
     "data": {
      "text/plain": [
       "0    0\n",
       "1    0\n",
       "2    1\n",
       "3    0\n",
       "Name: churn, dtype: int64"
      ]
     },
     "execution_count": 112,
     "metadata": {},
     "output_type": "execute_result"
    }
   ],
   "source": [
    "y[:4]"
   ]
  },
  {
   "cell_type": "markdown",
   "id": "ec87d664",
   "metadata": {},
   "source": [
    "# Save the model:"
   ]
  },
  {
   "cell_type": "code",
   "execution_count": 118,
   "id": "4eefe91e",
   "metadata": {},
   "outputs": [
    {
     "data": {
      "text/plain": [
       "['churn_clf_model.pkl']"
      ]
     },
     "execution_count": 118,
     "metadata": {},
     "output_type": "execute_result"
    }
   ],
   "source": [
    "joblib.dump(pipeline, \"churn_clf_model.pkl\")"
   ]
  },
  {
   "cell_type": "code",
   "execution_count": null,
   "id": "cd1fdbb5",
   "metadata": {},
   "outputs": [],
   "source": []
  }
 ],
 "metadata": {
  "kernelspec": {
   "display_name": "Python (myenv)",
   "language": "python",
   "name": "churn_venv"
  },
  "language_info": {
   "codemirror_mode": {
    "name": "ipython",
    "version": 3
   },
   "file_extension": ".py",
   "mimetype": "text/x-python",
   "name": "python",
   "nbconvert_exporter": "python",
   "pygments_lexer": "ipython3",
   "version": "3.10.4"
  }
 },
 "nbformat": 4,
 "nbformat_minor": 5
}
